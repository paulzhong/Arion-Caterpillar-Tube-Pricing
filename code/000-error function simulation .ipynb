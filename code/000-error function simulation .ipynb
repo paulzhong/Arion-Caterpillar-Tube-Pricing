{
 "cells": [
  {
   "cell_type": "markdown",
   "metadata": {},
   "source": [
    "# Caterpillar Tube Pricing\n",
    "## Environment : Python 3\n",
    "## Author : Arion"
   ]
  },
  {
   "cell_type": "markdown",
   "metadata": {},
   "source": [
    "# Brief Introduction to RMSE (Root Mean Square Error)"
   ]
  },
  {
   "cell_type": "markdown",
   "metadata": {},
   "source": [
    "In this notebook, we will have a look at the evaluation function used in Caterpillar Tube Pricing and many other competitions: **Root Mean Square Error** (RMSE)"
   ]
  },
  {
   "cell_type": "markdown",
   "metadata": {},
   "source": [
    "## What is RMSE (Root Mean Square Error) ?"
   ]
  },
  {
   "cell_type": "markdown",
   "metadata": {},
   "source": [
    "The RMSE is a frequently used measure of the differences between values predicted and the value actually observed.\n",
    "\n",
    "The standard formula is given as the following:\n",
    "\n",
    "$$RMSE = \\sqrt{\\frac{1}{n}\\sum_{i=1}^{n}(y_i-\\hat{y_i})^2}$$ \n",
    "\n",
    "Where:\n",
    "\n",
    "* $n$ is the number of predicton\n",
    "* $y_i$ is the predicted price\n",
    "* $\\hat{y_i}$ is the actural price\n",
    "\n",
    "This competition uses this formula Root Mean Squared Logarithmic Error (**RMSLE**):\n",
    "\n",
    "$$RMSLE = \\sqrt{\\frac{1}{n}\\sum_{i=1}^{n}(log(y_i+1)-log(\\hat{y_i}+1))^2}$$"
   ]
  },
  {
   "cell_type": "markdown",
   "metadata": {},
   "source": [
    "# Experiment"
   ]
  },
  {
   "cell_type": "markdown",
   "metadata": {},
   "source": [
    "In order to understand experiment with how RMSLE would evaluate different predictions, let's create two arrays with one representing the ground truth and another one represent a prediction."
   ]
  },
  {
   "cell_type": "code",
   "execution_count": 1,
   "metadata": {
    "collapsed": true
   },
   "outputs": [],
   "source": [
    "true = [1.5, 2.1, 3.3, 4.7, 2.3, 0.75]  \n",
    "\n",
    "prediction = [0.5, 1.5, 2.1, 2.2, 0.1, 0.5]"
   ]
  },
  {
   "cell_type": "code",
   "execution_count": 2,
   "metadata": {},
   "outputs": [
    {
     "name": "stdout",
     "output_type": "stream",
     "text": [
      "Handled calculated RMSLE: 0.5742079234921769\n"
     ]
    }
   ],
   "source": [
    "import numpy as np\n",
    "\n",
    "rmsle = (np.sum((np.log1p(prediction)-np.log1p(true))**2)/len(true))**0.5\n",
    "\n",
    "print (\"Handled calculated RMSLE: {}\".format(rmsle))"
   ]
  },
  {
   "cell_type": "markdown",
   "metadata": {},
   "source": [
    "All good and great, how about we use the sklearn **Mean Squared Error** + **sqrt** and see if could get the same score?"
   ]
  },
  {
   "cell_type": "code",
   "execution_count": 4,
   "metadata": {},
   "outputs": [
    {
     "name": "stdout",
     "output_type": "stream",
     "text": [
      "Sklearn calculated RMSLE: 0.5742079234921769\n"
     ]
    }
   ],
   "source": [
    "from sklearn.metrics import mean_squared_error\n",
    "\n",
    "sklearn_rmsle = np.sqrt(mean_squared_error(np.log1p(true), np.log1p(prediction)))\n",
    "\n",
    "print (\"Sklearn calculated RMSLE: {}\".format(sklearn_rmsle))"
   ]
  },
  {
   "cell_type": "markdown",
   "metadata": {},
   "source": [
    "We could see that they have the same score."
   ]
  },
  {
   "cell_type": "code",
   "execution_count": 6,
   "metadata": {},
   "outputs": [
    {
     "name": "stdout",
     "output_type": "stream",
     "text": [
      "Sklearn calculated RMSLE: 0.05140858133717794\n"
     ]
    }
   ],
   "source": [
    "prediction2 = [1.4, 2.3, 3., 4.8, 2.1, 0.7]  \n",
    "\n",
    "sklearn_rmsle2 = np.sqrt(mean_squared_error(np.log1p(true), np.log1p(prediction2)))\n",
    "\n",
    "print (\"Sklearn calculated RMSLE: {}\".format(sklearn_rmsle2))"
   ]
  },
  {
   "cell_type": "markdown",
   "metadata": {},
   "source": [
    "for a more precise prediction, RMSLE score is less than the previous. "
   ]
  },
  {
   "cell_type": "code",
   "execution_count": null,
   "metadata": {
    "collapsed": true
   },
   "outputs": [],
   "source": []
  },
  {
   "cell_type": "code",
   "execution_count": null,
   "metadata": {
    "collapsed": true
   },
   "outputs": [],
   "source": []
  }
 ],
 "metadata": {
  "kernelspec": {
   "display_name": "Python 3",
   "language": "python",
   "name": "python3"
  },
  "language_info": {
   "codemirror_mode": {
    "name": "ipython",
    "version": 3
   },
   "file_extension": ".py",
   "mimetype": "text/x-python",
   "name": "python",
   "nbconvert_exporter": "python",
   "pygments_lexer": "ipython3",
   "version": "3.6.3"
  }
 },
 "nbformat": 4,
 "nbformat_minor": 2
}
