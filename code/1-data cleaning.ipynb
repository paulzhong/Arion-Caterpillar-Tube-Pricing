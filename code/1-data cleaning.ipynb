{
 "cells": [
  {
   "cell_type": "markdown",
   "metadata": {},
   "source": [
    "# Caterpillar Tube Pricing\n",
    "## Environment : Python 3\n",
    "## Zhiqiang Zhong\n",
    "## 05/12/2017"
   ]
  },
  {
   "cell_type": "markdown",
   "metadata": {},
   "source": [
    "### import packages "
   ]
  },
  {
   "cell_type": "code",
   "execution_count": 85,
   "metadata": {
    "collapsed": true
   },
   "outputs": [],
   "source": [
    "import pandas as pd\n",
    "import numpy as np\n",
    "import seaborn as sns\n",
    "import matplotlib.pyplot as plt\n",
    "\n",
    "import warnings\n",
    "warnings.filterwarnings('ignore')\n",
    "%matplotlib inline "
   ]
  },
  {
   "cell_type": "markdown",
   "metadata": {},
   "source": [
    "### read all 21 csvs"
   ]
  },
  {
   "cell_type": "code",
   "execution_count": 45,
   "metadata": {
    "collapsed": true
   },
   "outputs": [],
   "source": [
    "bill_of_materials_df = pd.read_csv('../competition_data/bill_of_materials.csv')\n",
    "comp_adaptor_df = pd.read_csv('../competition_data/comp_adaptor.csv')\n",
    "comp_boss_df = pd.read_csv('../competition_data/comp_boss.csv')\n",
    "comp_elbow_df = pd.read_csv('../competition_data/comp_elbow.csv')\n",
    "comp_float_df = pd.read_csv('../competition_data/comp_float.csv')\n",
    "comp_hfl_df = pd.read_csv('../competition_data/comp_hfl.csv')\n",
    "comp_nut_df = pd.read_csv('../competition_data/comp_nut.csv')\n",
    "comp_other_df = pd.read_csv('../competition_data/comp_other.csv')\n",
    "comp_sleeve_df = pd.read_csv('../competition_data/comp_sleeve.csv')\n",
    "comp_straight_df = pd.read_csv('../competition_data/comp_straight.csv')\n",
    "comp_tee_df = pd.read_csv('../competition_data/comp_tee.csv')\n",
    "comp_threaded_df = pd.read_csv('../competition_data/comp_threaded.csv')\n",
    "components_df = pd.read_csv('../competition_data/components.csv')\n",
    "specs_df = pd.read_csv('../competition_data/specs.csv')\n",
    "test_set_df = pd.read_csv('../competition_data/test_set.csv')\n",
    "train_set_df = pd.read_csv('../competition_data/train_set.csv')\n",
    "tube_end_form_df = pd.read_csv('../competition_data/tube_end_form.csv')\n",
    "tube_df = pd.read_csv('../competition_data/tube.csv')\n",
    "type_component_df = pd.read_csv('../competition_data/type_component.csv')\n",
    "type_connection_df = pd.read_csv('../competition_data/type_connection.csv')\n",
    "type_end_form_df = pd.read_csv('../competition_data/type_end_form.csv')"
   ]
  },
  {
   "cell_type": "markdown",
   "metadata": {},
   "source": [
    "# data cleaning and preparation"
   ]
  },
  {
   "cell_type": "code",
   "execution_count": 46,
   "metadata": {
    "collapsed": true
   },
   "outputs": [],
   "source": [
    "train_set_df.quote_date = pd.to_datetime(train_set_df.quote_date)"
   ]
  },
  {
   "cell_type": "code",
   "execution_count": 47,
   "metadata": {
    "collapsed": true
   },
   "outputs": [],
   "source": [
    "test_set_df.quote_date = pd.to_datetime(test_set_df.quote_date)"
   ]
  },
  {
   "cell_type": "code",
   "execution_count": 87,
   "metadata": {
    "collapsed": true
   },
   "outputs": [],
   "source": [
    "#bill_of_materials_df\n",
    "\n",
    "#how to replace data that has null id but numeric quantity???"
   ]
  },
  {
   "cell_type": "code",
   "execution_count": 69,
   "metadata": {
    "collapsed": true
   },
   "outputs": [],
   "source": [
    "components_df.component_id.replace(\"9999\", \"other\", inplace=True)"
   ]
  },
  {
   "cell_type": "code",
   "execution_count": 86,
   "metadata": {},
   "outputs": [
    {
     "data": {
      "text/plain": [
       "(21198, 16)"
      ]
     },
     "execution_count": 86,
     "metadata": {},
     "output_type": "execute_result"
    }
   ],
   "source": [
    "tube_df['tube_assembly_id'] = pd.Series(tube_df['tube_assembly_id'], dtype = 'category')\n",
    "tube_df['material_id'] = pd.Series(tube_df['material_id'], dtype = 'category')\n",
    "tube_df['end_a_1x'] = pd.Series(tube_df['end_a_1x'], dtype = 'category')\n",
    "tube_df['end_a_2x'] = pd.Series(tube_df['end_a_2x'], dtype = 'category')\n",
    "tube_df['end_x_1x'] = pd.Series(tube_df['end_x_1x'], dtype = 'category')\n",
    "tube_df['end_x_2x'] = pd.Series(tube_df['end_x_2x'], dtype = 'category')\n",
    "tube_df['end_a'] = pd.Series(tube_df['end_a'], dtype = 'category')\n",
    "tube_df['end_x'] = pd.Series(tube_df['end_x'], dtype = 'category')\n",
    "# replace 9999.0 entries in bend_radius column with np.nan entries\n",
    "tube_df = tube_df.replace(9999.0, np.nan)\n",
    "tube_df = tube_df.replace('9999', 'other')\n",
    "np.shape(tube_df)\n",
    "\n",
    "## deleting rows with tube length of zero\n",
    "#tube_df[tube_df['length'] == 0.0].index\n",
    "#tube_df = tube_df.drop(tube_df[tube_df['length'] == 0.0].index)"
   ]
  },
  {
   "cell_type": "code",
   "execution_count": null,
   "metadata": {
    "collapsed": true
   },
   "outputs": [],
   "source": []
  },
  {
   "cell_type": "code",
   "execution_count": null,
   "metadata": {
    "collapsed": true
   },
   "outputs": [],
   "source": []
  },
  {
   "cell_type": "code",
   "execution_count": null,
   "metadata": {
    "collapsed": true
   },
   "outputs": [],
   "source": []
  },
  {
   "cell_type": "code",
   "execution_count": 89,
   "metadata": {},
   "outputs": [
    {
     "data": {
      "text/html": [
       "<div>\n",
       "<style>\n",
       "    .dataframe thead tr:only-child th {\n",
       "        text-align: right;\n",
       "    }\n",
       "\n",
       "    .dataframe thead th {\n",
       "        text-align: left;\n",
       "    }\n",
       "\n",
       "    .dataframe tbody tr th {\n",
       "        vertical-align: top;\n",
       "    }\n",
       "</style>\n",
       "<table border=\"1\" class=\"dataframe\">\n",
       "  <thead>\n",
       "    <tr style=\"text-align: right;\">\n",
       "      <th></th>\n",
       "      <th>end_form_id</th>\n",
       "      <th>forming</th>\n",
       "    </tr>\n",
       "  </thead>\n",
       "  <tbody>\n",
       "    <tr>\n",
       "      <th>0</th>\n",
       "      <td>EF-001</td>\n",
       "      <td>Yes</td>\n",
       "    </tr>\n",
       "    <tr>\n",
       "      <th>1</th>\n",
       "      <td>EF-002</td>\n",
       "      <td>No</td>\n",
       "    </tr>\n",
       "    <tr>\n",
       "      <th>2</th>\n",
       "      <td>EF-003</td>\n",
       "      <td>No</td>\n",
       "    </tr>\n",
       "    <tr>\n",
       "      <th>3</th>\n",
       "      <td>EF-004</td>\n",
       "      <td>No</td>\n",
       "    </tr>\n",
       "    <tr>\n",
       "      <th>4</th>\n",
       "      <td>EF-005</td>\n",
       "      <td>Yes</td>\n",
       "    </tr>\n",
       "  </tbody>\n",
       "</table>\n",
       "</div>"
      ],
      "text/plain": [
       "  end_form_id forming\n",
       "0      EF-001     Yes\n",
       "1      EF-002      No\n",
       "2      EF-003      No\n",
       "3      EF-004      No\n",
       "4      EF-005     Yes"
      ]
     },
     "execution_count": 89,
     "metadata": {},
     "output_type": "execute_result"
    }
   ],
   "source": [
    "tube_end_form_df.head()"
   ]
  },
  {
   "cell_type": "code",
   "execution_count": 97,
   "metadata": {},
   "outputs": [
    {
     "data": {
      "text/html": [
       "<div>\n",
       "<style>\n",
       "    .dataframe thead tr:only-child th {\n",
       "        text-align: right;\n",
       "    }\n",
       "\n",
       "    .dataframe thead th {\n",
       "        text-align: left;\n",
       "    }\n",
       "\n",
       "    .dataframe tbody tr th {\n",
       "        vertical-align: top;\n",
       "    }\n",
       "</style>\n",
       "<table border=\"1\" class=\"dataframe\">\n",
       "  <thead>\n",
       "    <tr style=\"text-align: right;\">\n",
       "      <th></th>\n",
       "      <th>tube_assembly_id</th>\n",
       "      <th>component_id_1</th>\n",
       "      <th>quantity_1</th>\n",
       "      <th>component_id_2</th>\n",
       "      <th>quantity_2</th>\n",
       "      <th>component_id_3</th>\n",
       "      <th>quantity_3</th>\n",
       "      <th>component_id_4</th>\n",
       "      <th>quantity_4</th>\n",
       "      <th>component_id_5</th>\n",
       "      <th>quantity_5</th>\n",
       "      <th>component_id_6</th>\n",
       "      <th>quantity_6</th>\n",
       "      <th>component_id_7</th>\n",
       "      <th>quantity_7</th>\n",
       "      <th>component_id_8</th>\n",
       "      <th>quantity_8</th>\n",
       "    </tr>\n",
       "  </thead>\n",
       "  <tbody>\n",
       "    <tr>\n",
       "      <th>0</th>\n",
       "      <td>TA-00001</td>\n",
       "      <td>C-1622</td>\n",
       "      <td>2.0</td>\n",
       "      <td>C-1629</td>\n",
       "      <td>2.0</td>\n",
       "      <td>NaN</td>\n",
       "      <td>NaN</td>\n",
       "      <td>NaN</td>\n",
       "      <td>NaN</td>\n",
       "      <td>NaN</td>\n",
       "      <td>NaN</td>\n",
       "      <td>NaN</td>\n",
       "      <td>NaN</td>\n",
       "      <td>NaN</td>\n",
       "      <td>NaN</td>\n",
       "      <td>NaN</td>\n",
       "      <td>NaN</td>\n",
       "    </tr>\n",
       "    <tr>\n",
       "      <th>1</th>\n",
       "      <td>TA-00002</td>\n",
       "      <td>C-1312</td>\n",
       "      <td>2.0</td>\n",
       "      <td>NaN</td>\n",
       "      <td>NaN</td>\n",
       "      <td>NaN</td>\n",
       "      <td>NaN</td>\n",
       "      <td>NaN</td>\n",
       "      <td>NaN</td>\n",
       "      <td>NaN</td>\n",
       "      <td>NaN</td>\n",
       "      <td>NaN</td>\n",
       "      <td>NaN</td>\n",
       "      <td>NaN</td>\n",
       "      <td>NaN</td>\n",
       "      <td>NaN</td>\n",
       "      <td>NaN</td>\n",
       "    </tr>\n",
       "    <tr>\n",
       "      <th>2</th>\n",
       "      <td>TA-00003</td>\n",
       "      <td>C-1312</td>\n",
       "      <td>2.0</td>\n",
       "      <td>NaN</td>\n",
       "      <td>NaN</td>\n",
       "      <td>NaN</td>\n",
       "      <td>NaN</td>\n",
       "      <td>NaN</td>\n",
       "      <td>NaN</td>\n",
       "      <td>NaN</td>\n",
       "      <td>NaN</td>\n",
       "      <td>NaN</td>\n",
       "      <td>NaN</td>\n",
       "      <td>NaN</td>\n",
       "      <td>NaN</td>\n",
       "      <td>NaN</td>\n",
       "      <td>NaN</td>\n",
       "    </tr>\n",
       "    <tr>\n",
       "      <th>3</th>\n",
       "      <td>TA-00004</td>\n",
       "      <td>C-1312</td>\n",
       "      <td>2.0</td>\n",
       "      <td>NaN</td>\n",
       "      <td>NaN</td>\n",
       "      <td>NaN</td>\n",
       "      <td>NaN</td>\n",
       "      <td>NaN</td>\n",
       "      <td>NaN</td>\n",
       "      <td>NaN</td>\n",
       "      <td>NaN</td>\n",
       "      <td>NaN</td>\n",
       "      <td>NaN</td>\n",
       "      <td>NaN</td>\n",
       "      <td>NaN</td>\n",
       "      <td>NaN</td>\n",
       "      <td>NaN</td>\n",
       "    </tr>\n",
       "    <tr>\n",
       "      <th>4</th>\n",
       "      <td>TA-00005</td>\n",
       "      <td>C-1624</td>\n",
       "      <td>1.0</td>\n",
       "      <td>C-1631</td>\n",
       "      <td>1.0</td>\n",
       "      <td>C-1641</td>\n",
       "      <td>1.0</td>\n",
       "      <td>NaN</td>\n",
       "      <td>NaN</td>\n",
       "      <td>NaN</td>\n",
       "      <td>NaN</td>\n",
       "      <td>NaN</td>\n",
       "      <td>NaN</td>\n",
       "      <td>NaN</td>\n",
       "      <td>NaN</td>\n",
       "      <td>NaN</td>\n",
       "      <td>NaN</td>\n",
       "    </tr>\n",
       "  </tbody>\n",
       "</table>\n",
       "</div>"
      ],
      "text/plain": [
       "  tube_assembly_id component_id_1  quantity_1 component_id_2  quantity_2  \\\n",
       "0         TA-00001         C-1622         2.0         C-1629         2.0   \n",
       "1         TA-00002         C-1312         2.0            NaN         NaN   \n",
       "2         TA-00003         C-1312         2.0            NaN         NaN   \n",
       "3         TA-00004         C-1312         2.0            NaN         NaN   \n",
       "4         TA-00005         C-1624         1.0         C-1631         1.0   \n",
       "\n",
       "  component_id_3  quantity_3 component_id_4  quantity_4 component_id_5  \\\n",
       "0            NaN         NaN            NaN         NaN            NaN   \n",
       "1            NaN         NaN            NaN         NaN            NaN   \n",
       "2            NaN         NaN            NaN         NaN            NaN   \n",
       "3            NaN         NaN            NaN         NaN            NaN   \n",
       "4         C-1641         1.0            NaN         NaN            NaN   \n",
       "\n",
       "   quantity_5 component_id_6  quantity_6 component_id_7  quantity_7  \\\n",
       "0         NaN            NaN         NaN            NaN         NaN   \n",
       "1         NaN            NaN         NaN            NaN         NaN   \n",
       "2         NaN            NaN         NaN            NaN         NaN   \n",
       "3         NaN            NaN         NaN            NaN         NaN   \n",
       "4         NaN            NaN         NaN            NaN         NaN   \n",
       "\n",
       "  component_id_8  quantity_8  \n",
       "0            NaN         NaN  \n",
       "1            NaN         NaN  \n",
       "2            NaN         NaN  \n",
       "3            NaN         NaN  \n",
       "4            NaN         NaN  "
      ]
     },
     "execution_count": 97,
     "metadata": {},
     "output_type": "execute_result"
    }
   ],
   "source": [
    "bill_of_materials_df.head()"
   ]
  },
  {
   "cell_type": "code",
   "execution_count": 98,
   "metadata": {},
   "outputs": [
    {
     "data": {
      "text/html": [
       "<div>\n",
       "<style>\n",
       "    .dataframe thead tr:only-child th {\n",
       "        text-align: right;\n",
       "    }\n",
       "\n",
       "    .dataframe thead th {\n",
       "        text-align: left;\n",
       "    }\n",
       "\n",
       "    .dataframe tbody tr th {\n",
       "        vertical-align: top;\n",
       "    }\n",
       "</style>\n",
       "<table border=\"1\" class=\"dataframe\">\n",
       "  <thead>\n",
       "    <tr style=\"text-align: right;\">\n",
       "      <th></th>\n",
       "      <th>component_id</th>\n",
       "      <th>component_type_id</th>\n",
       "      <th>adaptor_angle</th>\n",
       "      <th>overall_length</th>\n",
       "      <th>end_form_id_1</th>\n",
       "      <th>connection_type_id_1</th>\n",
       "      <th>length_1</th>\n",
       "      <th>thread_size_1</th>\n",
       "      <th>thread_pitch_1</th>\n",
       "      <th>nominal_size_1</th>\n",
       "      <th>end_form_id_2</th>\n",
       "      <th>connection_type_id_2</th>\n",
       "      <th>length_2</th>\n",
       "      <th>thread_size_2</th>\n",
       "      <th>thread_pitch_2</th>\n",
       "      <th>nominal_size_2</th>\n",
       "      <th>hex_size</th>\n",
       "      <th>unique_feature</th>\n",
       "      <th>orientation</th>\n",
       "      <th>weight</th>\n",
       "    </tr>\n",
       "  </thead>\n",
       "  <tbody>\n",
       "    <tr>\n",
       "      <th>0</th>\n",
       "      <td>C-0005</td>\n",
       "      <td>CP-028</td>\n",
       "      <td>NaN</td>\n",
       "      <td>58.4</td>\n",
       "      <td>A-001</td>\n",
       "      <td>B-001</td>\n",
       "      <td>NaN</td>\n",
       "      <td>1.312</td>\n",
       "      <td>12.0</td>\n",
       "      <td>NaN</td>\n",
       "      <td>A-001</td>\n",
       "      <td>B-004</td>\n",
       "      <td>NaN</td>\n",
       "      <td>1.000</td>\n",
       "      <td>11.5</td>\n",
       "      <td>NaN</td>\n",
       "      <td>34.93</td>\n",
       "      <td>No</td>\n",
       "      <td>No</td>\n",
       "      <td>0.206</td>\n",
       "    </tr>\n",
       "    <tr>\n",
       "      <th>1</th>\n",
       "      <td>C-0006</td>\n",
       "      <td>CP-028</td>\n",
       "      <td>NaN</td>\n",
       "      <td>34.8</td>\n",
       "      <td>A-001</td>\n",
       "      <td>B-001</td>\n",
       "      <td>NaN</td>\n",
       "      <td>0.437</td>\n",
       "      <td>20.0</td>\n",
       "      <td>NaN</td>\n",
       "      <td>A-001</td>\n",
       "      <td>B-005</td>\n",
       "      <td>NaN</td>\n",
       "      <td>0.750</td>\n",
       "      <td>16.0</td>\n",
       "      <td>NaN</td>\n",
       "      <td>22.20</td>\n",
       "      <td>No</td>\n",
       "      <td>No</td>\n",
       "      <td>0.083</td>\n",
       "    </tr>\n",
       "    <tr>\n",
       "      <th>2</th>\n",
       "      <td>C-1435</td>\n",
       "      <td>CP-028</td>\n",
       "      <td>NaN</td>\n",
       "      <td>20.3</td>\n",
       "      <td>A-007</td>\n",
       "      <td>B-004</td>\n",
       "      <td>NaN</td>\n",
       "      <td>NaN</td>\n",
       "      <td>NaN</td>\n",
       "      <td>15.88</td>\n",
       "      <td>A-001</td>\n",
       "      <td>B-007</td>\n",
       "      <td>NaN</td>\n",
       "      <td>0.875</td>\n",
       "      <td>18.0</td>\n",
       "      <td>NaN</td>\n",
       "      <td>22.22</td>\n",
       "      <td>No</td>\n",
       "      <td>No</td>\n",
       "      <td>0.023</td>\n",
       "    </tr>\n",
       "    <tr>\n",
       "      <th>3</th>\n",
       "      <td>C-1546</td>\n",
       "      <td>CP-028</td>\n",
       "      <td>NaN</td>\n",
       "      <td>26.4</td>\n",
       "      <td>A-007</td>\n",
       "      <td>B-004</td>\n",
       "      <td>NaN</td>\n",
       "      <td>0.125</td>\n",
       "      <td>27.0</td>\n",
       "      <td>NaN</td>\n",
       "      <td>A-001</td>\n",
       "      <td>B-004</td>\n",
       "      <td>NaN</td>\n",
       "      <td>0.125</td>\n",
       "      <td>27.0</td>\n",
       "      <td>NaN</td>\n",
       "      <td>15.88</td>\n",
       "      <td>No</td>\n",
       "      <td>No</td>\n",
       "      <td>0.026</td>\n",
       "    </tr>\n",
       "    <tr>\n",
       "      <th>4</th>\n",
       "      <td>C-1583</td>\n",
       "      <td>CP-028</td>\n",
       "      <td>NaN</td>\n",
       "      <td>44.5</td>\n",
       "      <td>A-001</td>\n",
       "      <td>B-005</td>\n",
       "      <td>NaN</td>\n",
       "      <td>1.312</td>\n",
       "      <td>12.0</td>\n",
       "      <td>NaN</td>\n",
       "      <td>A-007</td>\n",
       "      <td>B-005</td>\n",
       "      <td>NaN</td>\n",
       "      <td>1.062</td>\n",
       "      <td>12.0</td>\n",
       "      <td>NaN</td>\n",
       "      <td>38.10</td>\n",
       "      <td>No</td>\n",
       "      <td>No</td>\n",
       "      <td>0.256</td>\n",
       "    </tr>\n",
       "  </tbody>\n",
       "</table>\n",
       "</div>"
      ],
      "text/plain": [
       "  component_id component_type_id  adaptor_angle  overall_length end_form_id_1  \\\n",
       "0       C-0005            CP-028            NaN            58.4         A-001   \n",
       "1       C-0006            CP-028            NaN            34.8         A-001   \n",
       "2       C-1435            CP-028            NaN            20.3         A-007   \n",
       "3       C-1546            CP-028            NaN            26.4         A-007   \n",
       "4       C-1583            CP-028            NaN            44.5         A-001   \n",
       "\n",
       "  connection_type_id_1  length_1  thread_size_1  thread_pitch_1  \\\n",
       "0                B-001       NaN          1.312            12.0   \n",
       "1                B-001       NaN          0.437            20.0   \n",
       "2                B-004       NaN            NaN             NaN   \n",
       "3                B-004       NaN          0.125            27.0   \n",
       "4                B-005       NaN          1.312            12.0   \n",
       "\n",
       "   nominal_size_1 end_form_id_2 connection_type_id_2  length_2  thread_size_2  \\\n",
       "0             NaN         A-001                B-004       NaN          1.000   \n",
       "1             NaN         A-001                B-005       NaN          0.750   \n",
       "2           15.88         A-001                B-007       NaN          0.875   \n",
       "3             NaN         A-001                B-004       NaN          0.125   \n",
       "4             NaN         A-007                B-005       NaN          1.062   \n",
       "\n",
       "   thread_pitch_2  nominal_size_2  hex_size unique_feature orientation  weight  \n",
       "0            11.5             NaN     34.93             No          No   0.206  \n",
       "1            16.0             NaN     22.20             No          No   0.083  \n",
       "2            18.0             NaN     22.22             No          No   0.023  \n",
       "3            27.0             NaN     15.88             No          No   0.026  \n",
       "4            12.0             NaN     38.10             No          No   0.256  "
      ]
     },
     "execution_count": 98,
     "metadata": {},
     "output_type": "execute_result"
    }
   ],
   "source": [
    "comp_adaptor_df.head()"
   ]
  },
  {
   "cell_type": "code",
   "execution_count": 99,
   "metadata": {},
   "outputs": [
    {
     "data": {
      "text/html": [
       "<div>\n",
       "<style>\n",
       "    .dataframe thead tr:only-child th {\n",
       "        text-align: right;\n",
       "    }\n",
       "\n",
       "    .dataframe thead th {\n",
       "        text-align: left;\n",
       "    }\n",
       "\n",
       "    .dataframe tbody tr th {\n",
       "        vertical-align: top;\n",
       "    }\n",
       "</style>\n",
       "<table border=\"1\" class=\"dataframe\">\n",
       "  <thead>\n",
       "    <tr style=\"text-align: right;\">\n",
       "      <th></th>\n",
       "      <th>component_id</th>\n",
       "      <th>name</th>\n",
       "      <th>component_type_id</th>\n",
       "    </tr>\n",
       "  </thead>\n",
       "  <tbody>\n",
       "    <tr>\n",
       "      <th>0</th>\n",
       "      <td>other</td>\n",
       "      <td>OTHER</td>\n",
       "      <td>OTHER</td>\n",
       "    </tr>\n",
       "    <tr>\n",
       "      <th>1</th>\n",
       "      <td>C-0001</td>\n",
       "      <td>SLEEVE</td>\n",
       "      <td>CP-024</td>\n",
       "    </tr>\n",
       "    <tr>\n",
       "      <th>2</th>\n",
       "      <td>C-0002</td>\n",
       "      <td>SLEEVE</td>\n",
       "      <td>CP-024</td>\n",
       "    </tr>\n",
       "    <tr>\n",
       "      <th>3</th>\n",
       "      <td>C-0003</td>\n",
       "      <td>SLEEVE-FLARED</td>\n",
       "      <td>CP-024</td>\n",
       "    </tr>\n",
       "    <tr>\n",
       "      <th>4</th>\n",
       "      <td>C-0004</td>\n",
       "      <td>NUT</td>\n",
       "      <td>CP-026</td>\n",
       "    </tr>\n",
       "  </tbody>\n",
       "</table>\n",
       "</div>"
      ],
      "text/plain": [
       "  component_id           name component_type_id\n",
       "0        other          OTHER             OTHER\n",
       "1       C-0001         SLEEVE            CP-024\n",
       "2       C-0002         SLEEVE            CP-024\n",
       "3       C-0003  SLEEVE-FLARED            CP-024\n",
       "4       C-0004            NUT            CP-026"
      ]
     },
     "execution_count": 99,
     "metadata": {},
     "output_type": "execute_result"
    }
   ],
   "source": [
    "components_df.head()"
   ]
  },
  {
   "cell_type": "code",
   "execution_count": null,
   "metadata": {
    "collapsed": true
   },
   "outputs": [],
   "source": []
  },
  {
   "cell_type": "code",
   "execution_count": 118,
   "metadata": {},
   "outputs": [],
   "source": [
    "#merge1: train + tube_df\n",
    "\n",
    "merge1 = train_set_df.merge(tube_df)"
   ]
  },
  {
   "cell_type": "code",
   "execution_count": 119,
   "metadata": {
    "collapsed": true
   },
   "outputs": [],
   "source": [
    "#merge2: train + tube_df + bill_of_materials_df(bill_of_materials_summary_df)\n",
    "bill_comp_types_df = bill_of_materials_df.iloc[:,[1,3,5,7,9,11,13,15]]\n",
    "bill_comp_types_logical_df = ~bill_comp_types_df.isnull()\n",
    "component_series = bill_comp_types_logical_df.sum(axis = 1)\n",
    "\n",
    "bill_comp_quants_df = bill_of_materials_df.iloc[:,[2,4,6,8,10,12,14,16]]\n",
    "quants_series = bill_comp_quants_df.sum(axis = 1)\n",
    "\n",
    "bill_of_materials_summary_df = bill_of_materials_df.copy()\n",
    "bill_of_materials_summary_df['type_totals'] = component_series\n",
    "bill_of_materials_summary_df['component_totals'] = quants_series\n",
    "\n",
    "merge2 = merge1.merge(bill_of_materials_summary_df[['tube_assembly_id', 'type_totals', 'component_totals']])"
   ]
  },
  {
   "cell_type": "code",
   "execution_count": 120,
   "metadata": {},
   "outputs": [],
   "source": [
    "#merge3: train + tube_df + bill_of_materials_df(bill_of_materials_summary_df) + specs_df(totals_spec)\n",
    "specS_only_df = specs_df.iloc[:, 1:11]\n",
    "specs_logical_df = ~specs_only_df.isnull()\n",
    "specs_totals = specs_logical_df.sum(axis=1)\n",
    "\n",
    "specs_with_totals_df = specs_df.copy()\n",
    "specs_with_totals_df['spec_totals'] = specs_totals\n",
    "\n",
    "merge3 = merge2.merge(specs_with_totals_df[['tube_assembly_id', 'spec_totals']])"
   ]
  },
  {
   "cell_type": "code",
   "execution_count": 122,
   "metadata": {},
   "outputs": [
    {
     "data": {
      "text/plain": [
       "Index(['tube_assembly_id', 'supplier', 'quote_date', 'annual_usage',\n",
       "       'min_order_quantity', 'bracket_pricing', 'quantity', 'cost',\n",
       "       'material_id', 'diameter', 'wall', 'length', 'num_bends', 'bend_radius',\n",
       "       'end_a_1x', 'end_a_2x', 'end_x_1x', 'end_x_2x', 'end_a', 'end_x',\n",
       "       'num_boss', 'num_bracket', 'other', 'type_totals', 'component_totals',\n",
       "       'spec_totals'],\n",
       "      dtype='object')"
      ]
     },
     "execution_count": 122,
     "metadata": {},
     "output_type": "execute_result"
    }
   ],
   "source": [
    "merge3.columns"
   ]
  },
  {
   "cell_type": "code",
   "execution_count": null,
   "metadata": {
    "collapsed": true
   },
   "outputs": [],
   "source": []
  }
 ],
 "metadata": {
  "kernelspec": {
   "display_name": "Python 3",
   "language": "python",
   "name": "python3"
  },
  "language_info": {
   "codemirror_mode": {
    "name": "ipython",
    "version": 3
   },
   "file_extension": ".py",
   "mimetype": "text/x-python",
   "name": "python",
   "nbconvert_exporter": "python",
   "pygments_lexer": "ipython3",
   "version": "3.6.3"
  }
 },
 "nbformat": 4,
 "nbformat_minor": 2
}
