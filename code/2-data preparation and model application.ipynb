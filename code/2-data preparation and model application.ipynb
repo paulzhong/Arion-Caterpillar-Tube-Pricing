{
 "cells": [
  {
   "cell_type": "markdown",
   "metadata": {},
   "source": [
    "# Caterpillar Tube Pricing\n",
    "## Environment : Python 3\n",
    "## Author : Arion"
   ]
  },
  {
   "cell_type": "markdown",
   "metadata": {},
   "source": [
    "In this notebook, we will have a look at how to prepare data for machine learning model and implement some basic models with these data."
   ]
  },
  {
   "cell_type": "markdown",
   "metadata": {},
   "source": [
    "# import packages"
   ]
  },
  {
   "cell_type": "code",
   "execution_count": 57,
   "metadata": {
    "collapsed": true
   },
   "outputs": [],
   "source": [
    "import pandas as pd\n",
    "import numpy as np\n",
    "import seaborn as sns\n",
    "import matplotlib.pyplot as plt\n",
    "from sklearn.model_selection import train_test_split\n",
    "from sklearn import preprocessing\n",
    "import time\n",
    "\n",
    "pd.set_option('display.max_columns', 500)\n",
    "pd.set_option('display.max_colwidth', 500)\n",
    "pd.set_option('display.max_rows', 1000)\n",
    "\n",
    "import warnings\n",
    "warnings.filterwarnings('ignore')\n",
    "%matplotlib inline "
   ]
  },
  {
   "cell_type": "markdown",
   "metadata": {},
   "source": [
    "# import data"
   ]
  },
  {
   "cell_type": "code",
   "execution_count": 58,
   "metadata": {
    "collapsed": true
   },
   "outputs": [],
   "source": [
    "train = pd.read_csv(\"../output/combination.csv\")"
   ]
  },
  {
   "cell_type": "markdown",
   "metadata": {},
   "source": [
    "# data preparation "
   ]
  },
  {
   "cell_type": "code",
   "execution_count": 59,
   "metadata": {},
   "outputs": [
    {
     "data": {
      "text/html": [
       "<div>\n",
       "<style>\n",
       "    .dataframe thead tr:only-child th {\n",
       "        text-align: right;\n",
       "    }\n",
       "\n",
       "    .dataframe thead th {\n",
       "        text-align: left;\n",
       "    }\n",
       "\n",
       "    .dataframe tbody tr th {\n",
       "        vertical-align: top;\n",
       "    }\n",
       "</style>\n",
       "<table border=\"1\" class=\"dataframe\">\n",
       "  <thead>\n",
       "    <tr style=\"text-align: right;\">\n",
       "      <th></th>\n",
       "      <th>tube_assembly_id</th>\n",
       "      <th>supplier</th>\n",
       "      <th>quote_date</th>\n",
       "      <th>annual_usage</th>\n",
       "      <th>min_order_quantity</th>\n",
       "      <th>bracket_pricing</th>\n",
       "      <th>quantity</th>\n",
       "      <th>cost</th>\n",
       "      <th>material_id</th>\n",
       "      <th>diameter</th>\n",
       "      <th>...</th>\n",
       "      <th>end_x_1x</th>\n",
       "      <th>end_x_2x</th>\n",
       "      <th>end_a</th>\n",
       "      <th>end_x</th>\n",
       "      <th>num_boss</th>\n",
       "      <th>num_bracket</th>\n",
       "      <th>other</th>\n",
       "      <th>type_totals</th>\n",
       "      <th>component_totals</th>\n",
       "      <th>spec_totals</th>\n",
       "    </tr>\n",
       "  </thead>\n",
       "  <tbody>\n",
       "    <tr>\n",
       "      <th>0</th>\n",
       "      <td>TA-00002</td>\n",
       "      <td>S-0066</td>\n",
       "      <td>2013-07-07</td>\n",
       "      <td>0</td>\n",
       "      <td>0</td>\n",
       "      <td>Yes</td>\n",
       "      <td>1</td>\n",
       "      <td>21.905933</td>\n",
       "      <td>SP-0019</td>\n",
       "      <td>6.35</td>\n",
       "      <td>...</td>\n",
       "      <td>N</td>\n",
       "      <td>N</td>\n",
       "      <td>EF-008</td>\n",
       "      <td>EF-008</td>\n",
       "      <td>0</td>\n",
       "      <td>0</td>\n",
       "      <td>0</td>\n",
       "      <td>1</td>\n",
       "      <td>2.0</td>\n",
       "      <td>0</td>\n",
       "    </tr>\n",
       "    <tr>\n",
       "      <th>1</th>\n",
       "      <td>TA-00002</td>\n",
       "      <td>S-0066</td>\n",
       "      <td>2013-07-07</td>\n",
       "      <td>0</td>\n",
       "      <td>0</td>\n",
       "      <td>Yes</td>\n",
       "      <td>2</td>\n",
       "      <td>12.341214</td>\n",
       "      <td>SP-0019</td>\n",
       "      <td>6.35</td>\n",
       "      <td>...</td>\n",
       "      <td>N</td>\n",
       "      <td>N</td>\n",
       "      <td>EF-008</td>\n",
       "      <td>EF-008</td>\n",
       "      <td>0</td>\n",
       "      <td>0</td>\n",
       "      <td>0</td>\n",
       "      <td>1</td>\n",
       "      <td>2.0</td>\n",
       "      <td>0</td>\n",
       "    </tr>\n",
       "    <tr>\n",
       "      <th>2</th>\n",
       "      <td>TA-00002</td>\n",
       "      <td>S-0066</td>\n",
       "      <td>2013-07-07</td>\n",
       "      <td>0</td>\n",
       "      <td>0</td>\n",
       "      <td>Yes</td>\n",
       "      <td>5</td>\n",
       "      <td>6.601826</td>\n",
       "      <td>SP-0019</td>\n",
       "      <td>6.35</td>\n",
       "      <td>...</td>\n",
       "      <td>N</td>\n",
       "      <td>N</td>\n",
       "      <td>EF-008</td>\n",
       "      <td>EF-008</td>\n",
       "      <td>0</td>\n",
       "      <td>0</td>\n",
       "      <td>0</td>\n",
       "      <td>1</td>\n",
       "      <td>2.0</td>\n",
       "      <td>0</td>\n",
       "    </tr>\n",
       "    <tr>\n",
       "      <th>3</th>\n",
       "      <td>TA-00002</td>\n",
       "      <td>S-0066</td>\n",
       "      <td>2013-07-07</td>\n",
       "      <td>0</td>\n",
       "      <td>0</td>\n",
       "      <td>Yes</td>\n",
       "      <td>10</td>\n",
       "      <td>4.687770</td>\n",
       "      <td>SP-0019</td>\n",
       "      <td>6.35</td>\n",
       "      <td>...</td>\n",
       "      <td>N</td>\n",
       "      <td>N</td>\n",
       "      <td>EF-008</td>\n",
       "      <td>EF-008</td>\n",
       "      <td>0</td>\n",
       "      <td>0</td>\n",
       "      <td>0</td>\n",
       "      <td>1</td>\n",
       "      <td>2.0</td>\n",
       "      <td>0</td>\n",
       "    </tr>\n",
       "    <tr>\n",
       "      <th>4</th>\n",
       "      <td>TA-00002</td>\n",
       "      <td>S-0066</td>\n",
       "      <td>2013-07-07</td>\n",
       "      <td>0</td>\n",
       "      <td>0</td>\n",
       "      <td>Yes</td>\n",
       "      <td>25</td>\n",
       "      <td>3.541561</td>\n",
       "      <td>SP-0019</td>\n",
       "      <td>6.35</td>\n",
       "      <td>...</td>\n",
       "      <td>N</td>\n",
       "      <td>N</td>\n",
       "      <td>EF-008</td>\n",
       "      <td>EF-008</td>\n",
       "      <td>0</td>\n",
       "      <td>0</td>\n",
       "      <td>0</td>\n",
       "      <td>1</td>\n",
       "      <td>2.0</td>\n",
       "      <td>0</td>\n",
       "    </tr>\n",
       "  </tbody>\n",
       "</table>\n",
       "<p>5 rows × 26 columns</p>\n",
       "</div>"
      ],
      "text/plain": [
       "  tube_assembly_id supplier  quote_date  annual_usage  min_order_quantity  \\\n",
       "0         TA-00002   S-0066  2013-07-07             0                   0   \n",
       "1         TA-00002   S-0066  2013-07-07             0                   0   \n",
       "2         TA-00002   S-0066  2013-07-07             0                   0   \n",
       "3         TA-00002   S-0066  2013-07-07             0                   0   \n",
       "4         TA-00002   S-0066  2013-07-07             0                   0   \n",
       "\n",
       "  bracket_pricing  quantity       cost material_id  diameter     ...      \\\n",
       "0             Yes         1  21.905933     SP-0019      6.35     ...       \n",
       "1             Yes         2  12.341214     SP-0019      6.35     ...       \n",
       "2             Yes         5   6.601826     SP-0019      6.35     ...       \n",
       "3             Yes        10   4.687770     SP-0019      6.35     ...       \n",
       "4             Yes        25   3.541561     SP-0019      6.35     ...       \n",
       "\n",
       "   end_x_1x  end_x_2x   end_a   end_x num_boss num_bracket other type_totals  \\\n",
       "0         N         N  EF-008  EF-008        0           0     0           1   \n",
       "1         N         N  EF-008  EF-008        0           0     0           1   \n",
       "2         N         N  EF-008  EF-008        0           0     0           1   \n",
       "3         N         N  EF-008  EF-008        0           0     0           1   \n",
       "4         N         N  EF-008  EF-008        0           0     0           1   \n",
       "\n",
       "  component_totals spec_totals  \n",
       "0              2.0           0  \n",
       "1              2.0           0  \n",
       "2              2.0           0  \n",
       "3              2.0           0  \n",
       "4              2.0           0  \n",
       "\n",
       "[5 rows x 26 columns]"
      ]
     },
     "execution_count": 59,
     "metadata": {},
     "output_type": "execute_result"
    }
   ],
   "source": [
    "train.head()"
   ]
  },
  {
   "cell_type": "code",
   "execution_count": 60,
   "metadata": {
    "collapsed": true
   },
   "outputs": [],
   "source": [
    "#There is no common tube_assembly_id between train and test data. So we drop this variable.\n",
    "train.drop(\"tube_assembly_id\", axis=1, inplace=True)"
   ]
  },
  {
   "cell_type": "code",
   "execution_count": 61,
   "metadata": {},
   "outputs": [
    {
     "data": {
      "text/html": [
       "<div>\n",
       "<style>\n",
       "    .dataframe thead tr:only-child th {\n",
       "        text-align: right;\n",
       "    }\n",
       "\n",
       "    .dataframe thead th {\n",
       "        text-align: left;\n",
       "    }\n",
       "\n",
       "    .dataframe tbody tr th {\n",
       "        vertical-align: top;\n",
       "    }\n",
       "</style>\n",
       "<table border=\"1\" class=\"dataframe\">\n",
       "  <thead>\n",
       "    <tr style=\"text-align: right;\">\n",
       "      <th></th>\n",
       "      <th>0</th>\n",
       "      <th>1</th>\n",
       "      <th>2</th>\n",
       "      <th>3</th>\n",
       "      <th>4</th>\n",
       "    </tr>\n",
       "  </thead>\n",
       "  <tbody>\n",
       "    <tr>\n",
       "      <th>supplier</th>\n",
       "      <td>S-0066</td>\n",
       "      <td>S-0066</td>\n",
       "      <td>S-0066</td>\n",
       "      <td>S-0066</td>\n",
       "      <td>S-0066</td>\n",
       "    </tr>\n",
       "    <tr>\n",
       "      <th>quote_date</th>\n",
       "      <td>2013-07-07</td>\n",
       "      <td>2013-07-07</td>\n",
       "      <td>2013-07-07</td>\n",
       "      <td>2013-07-07</td>\n",
       "      <td>2013-07-07</td>\n",
       "    </tr>\n",
       "    <tr>\n",
       "      <th>annual_usage</th>\n",
       "      <td>0</td>\n",
       "      <td>0</td>\n",
       "      <td>0</td>\n",
       "      <td>0</td>\n",
       "      <td>0</td>\n",
       "    </tr>\n",
       "    <tr>\n",
       "      <th>min_order_quantity</th>\n",
       "      <td>0</td>\n",
       "      <td>0</td>\n",
       "      <td>0</td>\n",
       "      <td>0</td>\n",
       "      <td>0</td>\n",
       "    </tr>\n",
       "    <tr>\n",
       "      <th>bracket_pricing</th>\n",
       "      <td>Yes</td>\n",
       "      <td>Yes</td>\n",
       "      <td>Yes</td>\n",
       "      <td>Yes</td>\n",
       "      <td>Yes</td>\n",
       "    </tr>\n",
       "    <tr>\n",
       "      <th>quantity</th>\n",
       "      <td>1</td>\n",
       "      <td>2</td>\n",
       "      <td>5</td>\n",
       "      <td>10</td>\n",
       "      <td>25</td>\n",
       "    </tr>\n",
       "    <tr>\n",
       "      <th>cost</th>\n",
       "      <td>21.9059</td>\n",
       "      <td>12.3412</td>\n",
       "      <td>6.60183</td>\n",
       "      <td>4.68777</td>\n",
       "      <td>3.54156</td>\n",
       "    </tr>\n",
       "    <tr>\n",
       "      <th>material_id</th>\n",
       "      <td>SP-0019</td>\n",
       "      <td>SP-0019</td>\n",
       "      <td>SP-0019</td>\n",
       "      <td>SP-0019</td>\n",
       "      <td>SP-0019</td>\n",
       "    </tr>\n",
       "    <tr>\n",
       "      <th>diameter</th>\n",
       "      <td>6.35</td>\n",
       "      <td>6.35</td>\n",
       "      <td>6.35</td>\n",
       "      <td>6.35</td>\n",
       "      <td>6.35</td>\n",
       "    </tr>\n",
       "    <tr>\n",
       "      <th>wall</th>\n",
       "      <td>0.71</td>\n",
       "      <td>0.71</td>\n",
       "      <td>0.71</td>\n",
       "      <td>0.71</td>\n",
       "      <td>0.71</td>\n",
       "    </tr>\n",
       "    <tr>\n",
       "      <th>length</th>\n",
       "      <td>137</td>\n",
       "      <td>137</td>\n",
       "      <td>137</td>\n",
       "      <td>137</td>\n",
       "      <td>137</td>\n",
       "    </tr>\n",
       "    <tr>\n",
       "      <th>num_bends</th>\n",
       "      <td>8</td>\n",
       "      <td>8</td>\n",
       "      <td>8</td>\n",
       "      <td>8</td>\n",
       "      <td>8</td>\n",
       "    </tr>\n",
       "    <tr>\n",
       "      <th>bend_radius</th>\n",
       "      <td>19.05</td>\n",
       "      <td>19.05</td>\n",
       "      <td>19.05</td>\n",
       "      <td>19.05</td>\n",
       "      <td>19.05</td>\n",
       "    </tr>\n",
       "    <tr>\n",
       "      <th>end_a_1x</th>\n",
       "      <td>N</td>\n",
       "      <td>N</td>\n",
       "      <td>N</td>\n",
       "      <td>N</td>\n",
       "      <td>N</td>\n",
       "    </tr>\n",
       "    <tr>\n",
       "      <th>end_a_2x</th>\n",
       "      <td>N</td>\n",
       "      <td>N</td>\n",
       "      <td>N</td>\n",
       "      <td>N</td>\n",
       "      <td>N</td>\n",
       "    </tr>\n",
       "    <tr>\n",
       "      <th>end_x_1x</th>\n",
       "      <td>N</td>\n",
       "      <td>N</td>\n",
       "      <td>N</td>\n",
       "      <td>N</td>\n",
       "      <td>N</td>\n",
       "    </tr>\n",
       "    <tr>\n",
       "      <th>end_x_2x</th>\n",
       "      <td>N</td>\n",
       "      <td>N</td>\n",
       "      <td>N</td>\n",
       "      <td>N</td>\n",
       "      <td>N</td>\n",
       "    </tr>\n",
       "    <tr>\n",
       "      <th>end_a</th>\n",
       "      <td>EF-008</td>\n",
       "      <td>EF-008</td>\n",
       "      <td>EF-008</td>\n",
       "      <td>EF-008</td>\n",
       "      <td>EF-008</td>\n",
       "    </tr>\n",
       "    <tr>\n",
       "      <th>end_x</th>\n",
       "      <td>EF-008</td>\n",
       "      <td>EF-008</td>\n",
       "      <td>EF-008</td>\n",
       "      <td>EF-008</td>\n",
       "      <td>EF-008</td>\n",
       "    </tr>\n",
       "    <tr>\n",
       "      <th>num_boss</th>\n",
       "      <td>0</td>\n",
       "      <td>0</td>\n",
       "      <td>0</td>\n",
       "      <td>0</td>\n",
       "      <td>0</td>\n",
       "    </tr>\n",
       "    <tr>\n",
       "      <th>num_bracket</th>\n",
       "      <td>0</td>\n",
       "      <td>0</td>\n",
       "      <td>0</td>\n",
       "      <td>0</td>\n",
       "      <td>0</td>\n",
       "    </tr>\n",
       "    <tr>\n",
       "      <th>other</th>\n",
       "      <td>0</td>\n",
       "      <td>0</td>\n",
       "      <td>0</td>\n",
       "      <td>0</td>\n",
       "      <td>0</td>\n",
       "    </tr>\n",
       "    <tr>\n",
       "      <th>type_totals</th>\n",
       "      <td>1</td>\n",
       "      <td>1</td>\n",
       "      <td>1</td>\n",
       "      <td>1</td>\n",
       "      <td>1</td>\n",
       "    </tr>\n",
       "    <tr>\n",
       "      <th>component_totals</th>\n",
       "      <td>2</td>\n",
       "      <td>2</td>\n",
       "      <td>2</td>\n",
       "      <td>2</td>\n",
       "      <td>2</td>\n",
       "    </tr>\n",
       "    <tr>\n",
       "      <th>spec_totals</th>\n",
       "      <td>0</td>\n",
       "      <td>0</td>\n",
       "      <td>0</td>\n",
       "      <td>0</td>\n",
       "      <td>0</td>\n",
       "    </tr>\n",
       "  </tbody>\n",
       "</table>\n",
       "</div>"
      ],
      "text/plain": [
       "                             0           1           2           3           4\n",
       "supplier                S-0066      S-0066      S-0066      S-0066      S-0066\n",
       "quote_date          2013-07-07  2013-07-07  2013-07-07  2013-07-07  2013-07-07\n",
       "annual_usage                 0           0           0           0           0\n",
       "min_order_quantity           0           0           0           0           0\n",
       "bracket_pricing            Yes         Yes         Yes         Yes         Yes\n",
       "quantity                     1           2           5          10          25\n",
       "cost                   21.9059     12.3412     6.60183     4.68777     3.54156\n",
       "material_id            SP-0019     SP-0019     SP-0019     SP-0019     SP-0019\n",
       "diameter                  6.35        6.35        6.35        6.35        6.35\n",
       "wall                      0.71        0.71        0.71        0.71        0.71\n",
       "length                     137         137         137         137         137\n",
       "num_bends                    8           8           8           8           8\n",
       "bend_radius              19.05       19.05       19.05       19.05       19.05\n",
       "end_a_1x                     N           N           N           N           N\n",
       "end_a_2x                     N           N           N           N           N\n",
       "end_x_1x                     N           N           N           N           N\n",
       "end_x_2x                     N           N           N           N           N\n",
       "end_a                   EF-008      EF-008      EF-008      EF-008      EF-008\n",
       "end_x                   EF-008      EF-008      EF-008      EF-008      EF-008\n",
       "num_boss                     0           0           0           0           0\n",
       "num_bracket                  0           0           0           0           0\n",
       "other                        0           0           0           0           0\n",
       "type_totals                  1           1           1           1           1\n",
       "component_totals             2           2           2           2           2\n",
       "spec_totals                  0           0           0           0           0"
      ]
     },
     "execution_count": 61,
     "metadata": {},
     "output_type": "execute_result"
    }
   ],
   "source": [
    "train.head().transpose()"
   ]
  },
  {
   "cell_type": "code",
   "execution_count": 62,
   "metadata": {
    "collapsed": true
   },
   "outputs": [],
   "source": [
    "train.quote_date = pd.to_datetime(train.quote_date)"
   ]
  },
  {
   "cell_type": "code",
   "execution_count": 63,
   "metadata": {
    "collapsed": true
   },
   "outputs": [],
   "source": [
    "#add new numeric time features\n",
    "\n",
    "train[\"year\"] = train.quote_date.dt.year\n",
    "train[\"month\"] = train.quote_date.dt.month\n",
    "train[\"day\"] = train.quote_date.dt.day\n",
    "train[\"day_of_week\"] = train.quote_date.dt.dayofweek"
   ]
  },
  {
   "cell_type": "code",
   "execution_count": 64,
   "metadata": {
    "collapsed": true
   },
   "outputs": [],
   "source": [
    "#only use numeric data\n",
    "data = train.select_dtypes(include=['int', 'float'])"
   ]
  },
  {
   "cell_type": "code",
   "execution_count": 65,
   "metadata": {
    "collapsed": true
   },
   "outputs": [],
   "source": [
    "#fill null by 0\n",
    "data.replace(np.nan, 0, inplace=True)"
   ]
  },
  {
   "cell_type": "markdown",
   "metadata": {},
   "source": [
    "# split for machine learning model"
   ]
  },
  {
   "cell_type": "code",
   "execution_count": 66,
   "metadata": {
    "collapsed": true
   },
   "outputs": [],
   "source": [
    "train_data, valid_data = train_test_split(data, test_size = 0.3)"
   ]
  },
  {
   "cell_type": "code",
   "execution_count": 67,
   "metadata": {
    "collapsed": true
   },
   "outputs": [],
   "source": [
    "label = \"cost\""
   ]
  },
  {
   "cell_type": "code",
   "execution_count": 68,
   "metadata": {
    "collapsed": true
   },
   "outputs": [],
   "source": [
    "data_labels = train_data.columns.tolist()\n",
    "data_labels.remove(label)"
   ]
  },
  {
   "cell_type": "code",
   "execution_count": 69,
   "metadata": {
    "collapsed": true
   },
   "outputs": [],
   "source": [
    "train_df = train_data[data_labels]\n",
    "valid_df = valid_data[data_labels]\n",
    "train_label = train_data[label]\n",
    "valid_label = valid_data[label]"
   ]
  },
  {
   "cell_type": "code",
   "execution_count": null,
   "metadata": {
    "collapsed": true
   },
   "outputs": [],
   "source": []
  },
  {
   "cell_type": "markdown",
   "metadata": {},
   "source": [
    "# application of machine learning model"
   ]
  },
  {
   "cell_type": "code",
   "execution_count": 70,
   "metadata": {
    "collapsed": true
   },
   "outputs": [],
   "source": [
    "#define a evaluation function\n",
    "\n",
    "def rmse_score(preds, true):\n",
    "    rmse_score = (np.sum((np.log1p(preds)-np.log1p(true))**2)/len(true))**0.5\n",
    "    return rmse_score"
   ]
  },
  {
   "cell_type": "code",
   "execution_count": 71,
   "metadata": {
    "collapsed": true
   },
   "outputs": [],
   "source": [
    "# define a function for comparing predictions and true data.\n",
    "\n",
    "def compare_result(preds, true):\n",
    "    compare = pd.DataFrame({\"test_id\": true.index,\n",
    "                           \"real_cost\": true,\n",
    "                           \"pred_cost\": preds})\n",
    "    compare = compare[[\"test_id\", \"real_cost\", \"pred_cost\"]].reset_index(drop=True)\n",
    "    \n",
    "    compare[\"error_percent_(%)\"] = np.abs(compare.real_cost - compare.pred_cost) / compare.real_cost * 100\n",
    "    \n",
    "    return compare"
   ]
  },
  {
   "cell_type": "code",
   "execution_count": 72,
   "metadata": {
    "collapsed": true
   },
   "outputs": [],
   "source": [
    "# sklearn LinearRegression\n",
    "# Preprocess: do feature scaling or not \n",
    "from sklearn.linear_model import LinearRegression\n",
    "\n",
    "def linear_learning(labels, train, test, preprocess):\n",
    "    \n",
    "    if preprocess == False:\n",
    "        label_log=np.log1p(labels)\n",
    "        linear=LinearRegression()\n",
    "        model=linear.fit(train, label_log)\n",
    "        preds1=model.predict(test)\n",
    "        preds=np.expm1(preds1)\n",
    "        \n",
    "    elif preprocess == True:\n",
    "        \n",
    "        train = preprocessing.scale(train)\n",
    "        test = preprocessing.scale(test)\n",
    "        \n",
    "        label_log=np.log1p(labels)\n",
    "        linear=LinearRegression()\n",
    "        model=linear.fit(train, label_log)\n",
    "        preds1=model.predict(test)\n",
    "        preds=np.expm1(preds1)\n",
    "        \n",
    "    return preds"
   ]
  },
  {
   "cell_type": "code",
   "execution_count": 73,
   "metadata": {
    "collapsed": true
   },
   "outputs": [],
   "source": [
    "# sklearn svm regression \n",
    "# Preprocess: do feature scaling or not\n",
    "from sklearn import svm\n",
    "\n",
    "def svm_learning(labels, train, test, preprocess):\n",
    "    \n",
    "    if preprocess == False:    \n",
    "        label_log=np.log1p(labels)\n",
    "        clf=svm.SVR(C=1.0, cache_size=200, coef0=0.0, degree=3, epsilon=0.1, gamma=\"auto\",\n",
    "            kernel='rbf', max_iter=-1, shrinking=True, tol=0.001, verbose=False)\n",
    "        model=clf.fit(train, label_log)\n",
    "        preds1=model.predict(test)\n",
    "        preds=np.expm1(preds1)\n",
    "        \n",
    "    elif preprocess == True:\n",
    "        \n",
    "        train = preprocessing.scale(train)\n",
    "        test = preprocessing.scale(test)\n",
    "        \n",
    "        label_log=np.log1p(labels)\n",
    "        clf=svm.SVR(C=1.0, cache_size=200, coef0=0.0, degree=3, epsilon=0.1, gamma=\"auto\",\n",
    "            kernel='rbf', max_iter=-1, shrinking=True, tol=0.001, verbose=False)\n",
    "        model=clf.fit(train, label_log)\n",
    "        preds1=model.predict(test)\n",
    "        preds=np.expm1(preds1)\n",
    "    return preds"
   ]
  },
  {
   "cell_type": "code",
   "execution_count": 74,
   "metadata": {
    "collapsed": true
   },
   "outputs": [],
   "source": [
    "# sklearn random forest regression\n",
    "# Preprocess: do feature scaling or not\n",
    "from sklearn.ensemble import RandomForestRegressor\n",
    "\n",
    "def rf_learning(labels, train, test, preprocess):\n",
    "    \n",
    "    if preprocess == False:\n",
    "        label_log=np.log1p(labels)\n",
    "        clf=RandomForestRegressor(n_estimators=50, n_jobs=-1)\n",
    "        model=clf.fit(train, label_log)\n",
    "        preds1=model.predict(test)\n",
    "        preds=np.expm1(preds1)\n",
    "        \n",
    "    elif preprocess == True:\n",
    "        \n",
    "        train = preprocessing.scale(train)\n",
    "        test = preprocessing.scale(test)\n",
    "        \n",
    "        label_log=np.log1p(labels)\n",
    "        clf=RandomForestRegressor(n_estimators=50, n_jobs=-1)\n",
    "        model=clf.fit(train, label_log)\n",
    "        preds1=model.predict(test)\n",
    "        preds=np.expm1(preds1)\n",
    "    return preds"
   ]
  },
  {
   "cell_type": "code",
   "execution_count": 75,
   "metadata": {
    "collapsed": true
   },
   "outputs": [],
   "source": [
    "# K-nearest neighbor regression\n",
    "# Preprocess: do feature scaling or not\n",
    "from sklearn.neighbors import KNeighborsRegressor\n",
    "\n",
    "def knn_learning(labels, train, test, n, preprocess):\n",
    "    \n",
    "    if preprocess == False:\n",
    "        label_log=np.log1p(labels)\n",
    "        clf=KNeighborsRegressor(n_neighbors=n, n_jobs=-1)\n",
    "        model=clf.fit(train, label_log)\n",
    "        preds1=model.predict(test)\n",
    "        preds=np.expm1(preds1)\n",
    "        \n",
    "    elif preprocess == True:\n",
    "        \n",
    "        train = preprocessing.scale(train)\n",
    "        test = preprocessing.scale(test)\n",
    "        \n",
    "        label_log=np.log1p(labels)\n",
    "        clf=KNeighborsRegressor(n_neighbors=n, n_jobs=-1)\n",
    "        model=clf.fit(train, label_log)\n",
    "        preds1=model.predict(test)\n",
    "        preds=np.expm1(preds1)\n",
    "    return preds"
   ]
  },
  {
   "cell_type": "markdown",
   "metadata": {},
   "source": [
    "Following machine learning models are trained by part of train data and tested with the rest of train data (**local validation data**)"
   ]
  },
  {
   "cell_type": "code",
   "execution_count": 76,
   "metadata": {},
   "outputs": [
    {
     "name": "stdout",
     "output_type": "stream",
     "text": [
      "Linear RMSLE is : 0.6535462576078592\n",
      "It takes 0.028548002243041992 seconds\n"
     ]
    }
   ],
   "source": [
    "start = time.time()\n",
    "\n",
    "#linear_preds = linear_learning(labels=train_label, train=train_df, test=valid_df, preprocess=False)\n",
    "linear_preds = linear_learning(labels=train_label, train=train_df, test=valid_df, preprocess=True)\n",
    "\n",
    "rmse_linear = rmse_score(linear_preds, valid_label)\n",
    "print (\"Linear RMSLE is : {}\".format(rmse_linear))\n",
    "\n",
    "compare_linear = compare_result(preds=linear_preds, true=valid_label)\n",
    "\n",
    "end = time.time()\n",
    "duration = end - start\n",
    "print (\"It takes {} seconds\".format(duration))"
   ]
  },
  {
   "cell_type": "code",
   "execution_count": 77,
   "metadata": {},
   "outputs": [
    {
     "name": "stdout",
     "output_type": "stream",
     "text": [
      "SVM RMSLE is : 0.5277956355546624\n",
      "It takes 26.552299976348877 seconds\n"
     ]
    }
   ],
   "source": [
    "start = time.time()\n",
    "\n",
    "#svm_preds = svm_learning(train_label, train_df, valid_df, False)\n",
    "svm_preds = svm_learning(train_label, train_df, valid_df, True)\n",
    "\n",
    "rmse_svm = rmse_score(svm_preds, valid_label)\n",
    "print (\"SVM RMSLE is : {}\".format(rmse_svm))\n",
    "\n",
    "compare_svm = compare_result(preds=svm_preds, true=valid_label)\n",
    "\n",
    "end = time.time()\n",
    "duration = end - start\n",
    "print (\"It takes {} seconds\".format(duration))"
   ]
  },
  {
   "cell_type": "code",
   "execution_count": 78,
   "metadata": {},
   "outputs": [
    {
     "name": "stdout",
     "output_type": "stream",
     "text": [
      "RF RMSLE is : 0.4128730827171936\n",
      "It takes 1.1927931308746338 seconds\n"
     ]
    }
   ],
   "source": [
    "start = time.time()\n",
    "\n",
    "#rf_preds = rf_learning(train_label, train_df, valid_df, False)\n",
    "rf_preds = rf_learning(train_label, train_df, valid_df, True)\n",
    "\n",
    "rmse_rf = rmse_score(rf_preds, valid_label)\n",
    "print (\"RF RMSLE is : {}\".format(rmse_rf))\n",
    "\n",
    "compare_rf = compare_result(preds=rf_preds, true=valid_label)\n",
    "\n",
    "end = time.time()\n",
    "duration = end - start\n",
    "print (\"It takes {} seconds\".format(duration))"
   ]
  },
  {
   "cell_type": "code",
   "execution_count": 92,
   "metadata": {},
   "outputs": [
    {
     "name": "stdout",
     "output_type": "stream",
     "text": [
      "KNN RMSLE is : 0.4725182906356169\n",
      "It takes 0.44101810455322266 seconds\n"
     ]
    }
   ],
   "source": [
    "start = time.time()\n",
    "\n",
    "#knn_preds = knn_learning(train_label, train_df, valid_df, 3, False)\n",
    "knn_preds = knn_learning(train_label, train_df, valid_df, 3, True)\n",
    "\n",
    "rmse_knn = rmse_score(knn_preds, valid_label)\n",
    "print (\"KNN RMSLE is : {}\".format(rmse_knn))\n",
    "\n",
    "compare_knn = compare_result(preds=svm_preds, true=valid_label)\n",
    "\n",
    "end = time.time()\n",
    "duration = end - start\n",
    "print (\"It takes {} seconds\".format(duration))"
   ]
  },
  {
   "cell_type": "markdown",
   "metadata": {},
   "source": [
    "Results shown as following:\n",
    "\n",
    "  | Preprocessing | Time (second)| RMSLE Score)\n",
    ":----:         |:------:|:----:|-:---:\n",
    "_Linear_       | True   | 0.029| 0.654\n",
    "_Linear_       | False  | 0.017| 0.648\n",
    "_SVM_          | True   | 26.55| 0.528\n",
    "_SVM_          | False  | 90.06| 0.593\n",
    "_RandomForest_ | True   | 1.19 | 0.413\n",
    "_RandomForest_ | False  | 0.97 | __0.270__\n",
    "_KNN_          | True   | 1.69 | 0.573\n",
    "_KNN_          | False  | 0.33 | 0.469\n",
    "\n",
    "From blow table, we know that RandomForest without any preprocessing could get the best score."
   ]
  },
  {
   "cell_type": "code",
   "execution_count": 80,
   "metadata": {},
   "outputs": [
    {
     "data": {
      "text/html": [
       "<div>\n",
       "<style>\n",
       "    .dataframe thead tr:only-child th {\n",
       "        text-align: right;\n",
       "    }\n",
       "\n",
       "    .dataframe thead th {\n",
       "        text-align: left;\n",
       "    }\n",
       "\n",
       "    .dataframe tbody tr th {\n",
       "        vertical-align: top;\n",
       "    }\n",
       "</style>\n",
       "<table border=\"1\" class=\"dataframe\">\n",
       "  <thead>\n",
       "    <tr style=\"text-align: right;\">\n",
       "      <th></th>\n",
       "      <th>test_id</th>\n",
       "      <th>real_cost</th>\n",
       "      <th>pred_cost</th>\n",
       "      <th>error_percent_(%)</th>\n",
       "    </tr>\n",
       "  </thead>\n",
       "  <tbody>\n",
       "    <tr>\n",
       "      <th>0</th>\n",
       "      <td>15794</td>\n",
       "      <td>4.838001</td>\n",
       "      <td>5.803800</td>\n",
       "      <td>19.962767</td>\n",
       "    </tr>\n",
       "    <tr>\n",
       "      <th>1</th>\n",
       "      <td>10167</td>\n",
       "      <td>3.683446</td>\n",
       "      <td>7.802193</td>\n",
       "      <td>111.817742</td>\n",
       "    </tr>\n",
       "    <tr>\n",
       "      <th>2</th>\n",
       "      <td>16760</td>\n",
       "      <td>12.046316</td>\n",
       "      <td>6.143395</td>\n",
       "      <td>49.001872</td>\n",
       "    </tr>\n",
       "    <tr>\n",
       "      <th>3</th>\n",
       "      <td>2589</td>\n",
       "      <td>16.639495</td>\n",
       "      <td>13.760012</td>\n",
       "      <td>17.305109</td>\n",
       "    </tr>\n",
       "    <tr>\n",
       "      <th>4</th>\n",
       "      <td>7161</td>\n",
       "      <td>31.907435</td>\n",
       "      <td>52.076048</td>\n",
       "      <td>63.209757</td>\n",
       "    </tr>\n",
       "  </tbody>\n",
       "</table>\n",
       "</div>"
      ],
      "text/plain": [
       "   test_id  real_cost  pred_cost  error_percent_(%)\n",
       "0    15794   4.838001   5.803800          19.962767\n",
       "1    10167   3.683446   7.802193         111.817742\n",
       "2    16760  12.046316   6.143395          49.001872\n",
       "3     2589  16.639495  13.760012          17.305109\n",
       "4     7161  31.907435  52.076048          63.209757"
      ]
     },
     "execution_count": 80,
     "metadata": {},
     "output_type": "execute_result"
    }
   ],
   "source": [
    "compare_linear.head()"
   ]
  },
  {
   "cell_type": "code",
   "execution_count": 81,
   "metadata": {},
   "outputs": [
    {
     "data": {
      "text/html": [
       "<div>\n",
       "<style>\n",
       "    .dataframe thead tr:only-child th {\n",
       "        text-align: right;\n",
       "    }\n",
       "\n",
       "    .dataframe thead th {\n",
       "        text-align: left;\n",
       "    }\n",
       "\n",
       "    .dataframe tbody tr th {\n",
       "        vertical-align: top;\n",
       "    }\n",
       "</style>\n",
       "<table border=\"1\" class=\"dataframe\">\n",
       "  <thead>\n",
       "    <tr style=\"text-align: right;\">\n",
       "      <th></th>\n",
       "      <th>test_id</th>\n",
       "      <th>real_cost</th>\n",
       "      <th>pred_cost</th>\n",
       "      <th>error_percent_(%)</th>\n",
       "    </tr>\n",
       "  </thead>\n",
       "  <tbody>\n",
       "    <tr>\n",
       "      <th>0</th>\n",
       "      <td>15794</td>\n",
       "      <td>4.838001</td>\n",
       "      <td>8.169096</td>\n",
       "      <td>68.852716</td>\n",
       "    </tr>\n",
       "    <tr>\n",
       "      <th>1</th>\n",
       "      <td>10167</td>\n",
       "      <td>3.683446</td>\n",
       "      <td>4.946538</td>\n",
       "      <td>34.291035</td>\n",
       "    </tr>\n",
       "    <tr>\n",
       "      <th>2</th>\n",
       "      <td>16760</td>\n",
       "      <td>12.046316</td>\n",
       "      <td>6.181421</td>\n",
       "      <td>48.686214</td>\n",
       "    </tr>\n",
       "    <tr>\n",
       "      <th>3</th>\n",
       "      <td>2589</td>\n",
       "      <td>16.639495</td>\n",
       "      <td>13.093322</td>\n",
       "      <td>21.311781</td>\n",
       "    </tr>\n",
       "    <tr>\n",
       "      <th>4</th>\n",
       "      <td>7161</td>\n",
       "      <td>31.907435</td>\n",
       "      <td>51.242553</td>\n",
       "      <td>60.597530</td>\n",
       "    </tr>\n",
       "  </tbody>\n",
       "</table>\n",
       "</div>"
      ],
      "text/plain": [
       "   test_id  real_cost  pred_cost  error_percent_(%)\n",
       "0    15794   4.838001   8.169096          68.852716\n",
       "1    10167   3.683446   4.946538          34.291035\n",
       "2    16760  12.046316   6.181421          48.686214\n",
       "3     2589  16.639495  13.093322          21.311781\n",
       "4     7161  31.907435  51.242553          60.597530"
      ]
     },
     "execution_count": 81,
     "metadata": {},
     "output_type": "execute_result"
    }
   ],
   "source": [
    "compare_svm.head()"
   ]
  },
  {
   "cell_type": "code",
   "execution_count": 82,
   "metadata": {},
   "outputs": [
    {
     "data": {
      "text/html": [
       "<div>\n",
       "<style>\n",
       "    .dataframe thead tr:only-child th {\n",
       "        text-align: right;\n",
       "    }\n",
       "\n",
       "    .dataframe thead th {\n",
       "        text-align: left;\n",
       "    }\n",
       "\n",
       "    .dataframe tbody tr th {\n",
       "        vertical-align: top;\n",
       "    }\n",
       "</style>\n",
       "<table border=\"1\" class=\"dataframe\">\n",
       "  <thead>\n",
       "    <tr style=\"text-align: right;\">\n",
       "      <th></th>\n",
       "      <th>test_id</th>\n",
       "      <th>real_cost</th>\n",
       "      <th>pred_cost</th>\n",
       "      <th>error_percent_(%)</th>\n",
       "    </tr>\n",
       "  </thead>\n",
       "  <tbody>\n",
       "    <tr>\n",
       "      <th>0</th>\n",
       "      <td>15794</td>\n",
       "      <td>4.838001</td>\n",
       "      <td>5.866108</td>\n",
       "      <td>21.250672</td>\n",
       "    </tr>\n",
       "    <tr>\n",
       "      <th>1</th>\n",
       "      <td>10167</td>\n",
       "      <td>3.683446</td>\n",
       "      <td>4.597830</td>\n",
       "      <td>24.824152</td>\n",
       "    </tr>\n",
       "    <tr>\n",
       "      <th>2</th>\n",
       "      <td>16760</td>\n",
       "      <td>12.046316</td>\n",
       "      <td>15.929105</td>\n",
       "      <td>32.232176</td>\n",
       "    </tr>\n",
       "    <tr>\n",
       "      <th>3</th>\n",
       "      <td>2589</td>\n",
       "      <td>16.639495</td>\n",
       "      <td>27.470716</td>\n",
       "      <td>65.093445</td>\n",
       "    </tr>\n",
       "    <tr>\n",
       "      <th>4</th>\n",
       "      <td>7161</td>\n",
       "      <td>31.907435</td>\n",
       "      <td>70.039041</td>\n",
       "      <td>119.506959</td>\n",
       "    </tr>\n",
       "  </tbody>\n",
       "</table>\n",
       "</div>"
      ],
      "text/plain": [
       "   test_id  real_cost  pred_cost  error_percent_(%)\n",
       "0    15794   4.838001   5.866108          21.250672\n",
       "1    10167   3.683446   4.597830          24.824152\n",
       "2    16760  12.046316  15.929105          32.232176\n",
       "3     2589  16.639495  27.470716          65.093445\n",
       "4     7161  31.907435  70.039041         119.506959"
      ]
     },
     "execution_count": 82,
     "metadata": {},
     "output_type": "execute_result"
    }
   ],
   "source": [
    "compare_rf.head()"
   ]
  },
  {
   "cell_type": "code",
   "execution_count": 83,
   "metadata": {},
   "outputs": [
    {
     "data": {
      "text/html": [
       "<div>\n",
       "<style>\n",
       "    .dataframe thead tr:only-child th {\n",
       "        text-align: right;\n",
       "    }\n",
       "\n",
       "    .dataframe thead th {\n",
       "        text-align: left;\n",
       "    }\n",
       "\n",
       "    .dataframe tbody tr th {\n",
       "        vertical-align: top;\n",
       "    }\n",
       "</style>\n",
       "<table border=\"1\" class=\"dataframe\">\n",
       "  <thead>\n",
       "    <tr style=\"text-align: right;\">\n",
       "      <th></th>\n",
       "      <th>test_id</th>\n",
       "      <th>real_cost</th>\n",
       "      <th>pred_cost</th>\n",
       "      <th>error_percent_(%)</th>\n",
       "    </tr>\n",
       "  </thead>\n",
       "  <tbody>\n",
       "    <tr>\n",
       "      <th>0</th>\n",
       "      <td>15794</td>\n",
       "      <td>4.838001</td>\n",
       "      <td>8.169096</td>\n",
       "      <td>68.852716</td>\n",
       "    </tr>\n",
       "    <tr>\n",
       "      <th>1</th>\n",
       "      <td>10167</td>\n",
       "      <td>3.683446</td>\n",
       "      <td>4.946538</td>\n",
       "      <td>34.291035</td>\n",
       "    </tr>\n",
       "    <tr>\n",
       "      <th>2</th>\n",
       "      <td>16760</td>\n",
       "      <td>12.046316</td>\n",
       "      <td>6.181421</td>\n",
       "      <td>48.686214</td>\n",
       "    </tr>\n",
       "    <tr>\n",
       "      <th>3</th>\n",
       "      <td>2589</td>\n",
       "      <td>16.639495</td>\n",
       "      <td>13.093322</td>\n",
       "      <td>21.311781</td>\n",
       "    </tr>\n",
       "    <tr>\n",
       "      <th>4</th>\n",
       "      <td>7161</td>\n",
       "      <td>31.907435</td>\n",
       "      <td>51.242553</td>\n",
       "      <td>60.597530</td>\n",
       "    </tr>\n",
       "  </tbody>\n",
       "</table>\n",
       "</div>"
      ],
      "text/plain": [
       "   test_id  real_cost  pred_cost  error_percent_(%)\n",
       "0    15794   4.838001   8.169096          68.852716\n",
       "1    10167   3.683446   4.946538          34.291035\n",
       "2    16760  12.046316   6.181421          48.686214\n",
       "3     2589  16.639495  13.093322          21.311781\n",
       "4     7161  31.907435  51.242553          60.597530"
      ]
     },
     "execution_count": 83,
     "metadata": {},
     "output_type": "execute_result"
    }
   ],
   "source": [
    "compare_knn.head()"
   ]
  },
  {
   "cell_type": "code",
   "execution_count": null,
   "metadata": {
    "collapsed": true
   },
   "outputs": [],
   "source": []
  },
  {
   "cell_type": "code",
   "execution_count": null,
   "metadata": {
    "collapsed": true
   },
   "outputs": [],
   "source": []
  }
 ],
 "metadata": {
  "kernelspec": {
   "display_name": "Python 3",
   "language": "python",
   "name": "python3"
  },
  "language_info": {
   "codemirror_mode": {
    "name": "ipython",
    "version": 3
   },
   "file_extension": ".py",
   "mimetype": "text/x-python",
   "name": "python",
   "nbconvert_exporter": "python",
   "pygments_lexer": "ipython3",
   "version": "3.6.3"
  }
 },
 "nbformat": 4,
 "nbformat_minor": 2
}
