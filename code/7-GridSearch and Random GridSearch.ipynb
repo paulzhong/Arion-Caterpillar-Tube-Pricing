{
 "cells": [
  {
   "cell_type": "markdown",
   "metadata": {},
   "source": [
    "# Caterpillar Tube Pricing\n",
    "## Environment : Python 3\n",
    "## Author : Arion"
   ]
  },
  {
   "cell_type": "markdown",
   "metadata": {},
   "source": [
    "# import packages"
   ]
  },
  {
   "cell_type": "code",
   "execution_count": 1,
   "metadata": {
    "collapsed": true
   },
   "outputs": [],
   "source": [
    "import pandas as pd\n",
    "import numpy as np\n",
    "import seaborn as sns\n",
    "import matplotlib.pyplot as plt\n",
    "from sklearn.model_selection import train_test_split\n",
    "from sklearn import preprocessing\n",
    "import time\n",
    "\n",
    "pd.set_option('display.max_columns', 500)\n",
    "pd.set_option('display.max_colwidth', 500)\n",
    "pd.set_option('display.max_rows', 1000)\n",
    "\n",
    "import warnings\n",
    "warnings.filterwarnings('ignore')\n",
    "%matplotlib inline "
   ]
  },
  {
   "cell_type": "markdown",
   "metadata": {},
   "source": [
    "# import data"
   ]
  },
  {
   "cell_type": "code",
   "execution_count": 2,
   "metadata": {
    "collapsed": true
   },
   "outputs": [],
   "source": [
    "train = pd.read_csv(\"../output/combination.csv\")"
   ]
  },
  {
   "cell_type": "markdown",
   "metadata": {},
   "source": [
    "# data preparation "
   ]
  },
  {
   "cell_type": "code",
   "execution_count": 3,
   "metadata": {
    "collapsed": true
   },
   "outputs": [],
   "source": [
    "#There is no common tube_assembly_id between train and test data. So we drop this variable.\n",
    "train.drop(\"tube_assembly_id\", axis=1, inplace=True)"
   ]
  },
  {
   "cell_type": "code",
   "execution_count": 4,
   "metadata": {},
   "outputs": [
    {
     "data": {
      "text/html": [
       "<div>\n",
       "<style>\n",
       "    .dataframe thead tr:only-child th {\n",
       "        text-align: right;\n",
       "    }\n",
       "\n",
       "    .dataframe thead th {\n",
       "        text-align: left;\n",
       "    }\n",
       "\n",
       "    .dataframe tbody tr th {\n",
       "        vertical-align: top;\n",
       "    }\n",
       "</style>\n",
       "<table border=\"1\" class=\"dataframe\">\n",
       "  <thead>\n",
       "    <tr style=\"text-align: right;\">\n",
       "      <th></th>\n",
       "      <th>0</th>\n",
       "      <th>1</th>\n",
       "      <th>2</th>\n",
       "      <th>3</th>\n",
       "      <th>4</th>\n",
       "    </tr>\n",
       "  </thead>\n",
       "  <tbody>\n",
       "    <tr>\n",
       "      <th>supplier</th>\n",
       "      <td>S-0066</td>\n",
       "      <td>S-0066</td>\n",
       "      <td>S-0066</td>\n",
       "      <td>S-0066</td>\n",
       "      <td>S-0066</td>\n",
       "    </tr>\n",
       "    <tr>\n",
       "      <th>quote_date</th>\n",
       "      <td>2013-07-07</td>\n",
       "      <td>2013-07-07</td>\n",
       "      <td>2013-07-07</td>\n",
       "      <td>2013-07-07</td>\n",
       "      <td>2013-07-07</td>\n",
       "    </tr>\n",
       "    <tr>\n",
       "      <th>annual_usage</th>\n",
       "      <td>0</td>\n",
       "      <td>0</td>\n",
       "      <td>0</td>\n",
       "      <td>0</td>\n",
       "      <td>0</td>\n",
       "    </tr>\n",
       "    <tr>\n",
       "      <th>min_order_quantity</th>\n",
       "      <td>0</td>\n",
       "      <td>0</td>\n",
       "      <td>0</td>\n",
       "      <td>0</td>\n",
       "      <td>0</td>\n",
       "    </tr>\n",
       "    <tr>\n",
       "      <th>bracket_pricing</th>\n",
       "      <td>Yes</td>\n",
       "      <td>Yes</td>\n",
       "      <td>Yes</td>\n",
       "      <td>Yes</td>\n",
       "      <td>Yes</td>\n",
       "    </tr>\n",
       "    <tr>\n",
       "      <th>quantity</th>\n",
       "      <td>1</td>\n",
       "      <td>2</td>\n",
       "      <td>5</td>\n",
       "      <td>10</td>\n",
       "      <td>25</td>\n",
       "    </tr>\n",
       "    <tr>\n",
       "      <th>cost</th>\n",
       "      <td>21.9059</td>\n",
       "      <td>12.3412</td>\n",
       "      <td>6.60183</td>\n",
       "      <td>4.68777</td>\n",
       "      <td>3.54156</td>\n",
       "    </tr>\n",
       "    <tr>\n",
       "      <th>material_id</th>\n",
       "      <td>SP-0019</td>\n",
       "      <td>SP-0019</td>\n",
       "      <td>SP-0019</td>\n",
       "      <td>SP-0019</td>\n",
       "      <td>SP-0019</td>\n",
       "    </tr>\n",
       "    <tr>\n",
       "      <th>diameter</th>\n",
       "      <td>6.35</td>\n",
       "      <td>6.35</td>\n",
       "      <td>6.35</td>\n",
       "      <td>6.35</td>\n",
       "      <td>6.35</td>\n",
       "    </tr>\n",
       "    <tr>\n",
       "      <th>wall</th>\n",
       "      <td>0.71</td>\n",
       "      <td>0.71</td>\n",
       "      <td>0.71</td>\n",
       "      <td>0.71</td>\n",
       "      <td>0.71</td>\n",
       "    </tr>\n",
       "    <tr>\n",
       "      <th>length</th>\n",
       "      <td>137</td>\n",
       "      <td>137</td>\n",
       "      <td>137</td>\n",
       "      <td>137</td>\n",
       "      <td>137</td>\n",
       "    </tr>\n",
       "    <tr>\n",
       "      <th>num_bends</th>\n",
       "      <td>8</td>\n",
       "      <td>8</td>\n",
       "      <td>8</td>\n",
       "      <td>8</td>\n",
       "      <td>8</td>\n",
       "    </tr>\n",
       "    <tr>\n",
       "      <th>bend_radius</th>\n",
       "      <td>19.05</td>\n",
       "      <td>19.05</td>\n",
       "      <td>19.05</td>\n",
       "      <td>19.05</td>\n",
       "      <td>19.05</td>\n",
       "    </tr>\n",
       "    <tr>\n",
       "      <th>end_a_1x</th>\n",
       "      <td>N</td>\n",
       "      <td>N</td>\n",
       "      <td>N</td>\n",
       "      <td>N</td>\n",
       "      <td>N</td>\n",
       "    </tr>\n",
       "    <tr>\n",
       "      <th>end_a_2x</th>\n",
       "      <td>N</td>\n",
       "      <td>N</td>\n",
       "      <td>N</td>\n",
       "      <td>N</td>\n",
       "      <td>N</td>\n",
       "    </tr>\n",
       "    <tr>\n",
       "      <th>end_x_1x</th>\n",
       "      <td>N</td>\n",
       "      <td>N</td>\n",
       "      <td>N</td>\n",
       "      <td>N</td>\n",
       "      <td>N</td>\n",
       "    </tr>\n",
       "    <tr>\n",
       "      <th>end_x_2x</th>\n",
       "      <td>N</td>\n",
       "      <td>N</td>\n",
       "      <td>N</td>\n",
       "      <td>N</td>\n",
       "      <td>N</td>\n",
       "    </tr>\n",
       "    <tr>\n",
       "      <th>end_a</th>\n",
       "      <td>EF-008</td>\n",
       "      <td>EF-008</td>\n",
       "      <td>EF-008</td>\n",
       "      <td>EF-008</td>\n",
       "      <td>EF-008</td>\n",
       "    </tr>\n",
       "    <tr>\n",
       "      <th>end_x</th>\n",
       "      <td>EF-008</td>\n",
       "      <td>EF-008</td>\n",
       "      <td>EF-008</td>\n",
       "      <td>EF-008</td>\n",
       "      <td>EF-008</td>\n",
       "    </tr>\n",
       "    <tr>\n",
       "      <th>num_boss</th>\n",
       "      <td>0</td>\n",
       "      <td>0</td>\n",
       "      <td>0</td>\n",
       "      <td>0</td>\n",
       "      <td>0</td>\n",
       "    </tr>\n",
       "    <tr>\n",
       "      <th>num_bracket</th>\n",
       "      <td>0</td>\n",
       "      <td>0</td>\n",
       "      <td>0</td>\n",
       "      <td>0</td>\n",
       "      <td>0</td>\n",
       "    </tr>\n",
       "    <tr>\n",
       "      <th>other</th>\n",
       "      <td>0</td>\n",
       "      <td>0</td>\n",
       "      <td>0</td>\n",
       "      <td>0</td>\n",
       "      <td>0</td>\n",
       "    </tr>\n",
       "    <tr>\n",
       "      <th>type_totals</th>\n",
       "      <td>1</td>\n",
       "      <td>1</td>\n",
       "      <td>1</td>\n",
       "      <td>1</td>\n",
       "      <td>1</td>\n",
       "    </tr>\n",
       "    <tr>\n",
       "      <th>component_totals</th>\n",
       "      <td>2</td>\n",
       "      <td>2</td>\n",
       "      <td>2</td>\n",
       "      <td>2</td>\n",
       "      <td>2</td>\n",
       "    </tr>\n",
       "    <tr>\n",
       "      <th>spec_totals</th>\n",
       "      <td>0</td>\n",
       "      <td>0</td>\n",
       "      <td>0</td>\n",
       "      <td>0</td>\n",
       "      <td>0</td>\n",
       "    </tr>\n",
       "  </tbody>\n",
       "</table>\n",
       "</div>"
      ],
      "text/plain": [
       "                             0           1           2           3           4\n",
       "supplier                S-0066      S-0066      S-0066      S-0066      S-0066\n",
       "quote_date          2013-07-07  2013-07-07  2013-07-07  2013-07-07  2013-07-07\n",
       "annual_usage                 0           0           0           0           0\n",
       "min_order_quantity           0           0           0           0           0\n",
       "bracket_pricing            Yes         Yes         Yes         Yes         Yes\n",
       "quantity                     1           2           5          10          25\n",
       "cost                   21.9059     12.3412     6.60183     4.68777     3.54156\n",
       "material_id            SP-0019     SP-0019     SP-0019     SP-0019     SP-0019\n",
       "diameter                  6.35        6.35        6.35        6.35        6.35\n",
       "wall                      0.71        0.71        0.71        0.71        0.71\n",
       "length                     137         137         137         137         137\n",
       "num_bends                    8           8           8           8           8\n",
       "bend_radius              19.05       19.05       19.05       19.05       19.05\n",
       "end_a_1x                     N           N           N           N           N\n",
       "end_a_2x                     N           N           N           N           N\n",
       "end_x_1x                     N           N           N           N           N\n",
       "end_x_2x                     N           N           N           N           N\n",
       "end_a                   EF-008      EF-008      EF-008      EF-008      EF-008\n",
       "end_x                   EF-008      EF-008      EF-008      EF-008      EF-008\n",
       "num_boss                     0           0           0           0           0\n",
       "num_bracket                  0           0           0           0           0\n",
       "other                        0           0           0           0           0\n",
       "type_totals                  1           1           1           1           1\n",
       "component_totals             2           2           2           2           2\n",
       "spec_totals                  0           0           0           0           0"
      ]
     },
     "execution_count": 4,
     "metadata": {},
     "output_type": "execute_result"
    }
   ],
   "source": [
    "train.head().transpose()"
   ]
  },
  {
   "cell_type": "code",
   "execution_count": 5,
   "metadata": {
    "collapsed": true
   },
   "outputs": [],
   "source": [
    "train.quote_date = pd.to_datetime(train.quote_date)"
   ]
  },
  {
   "cell_type": "code",
   "execution_count": 6,
   "metadata": {
    "collapsed": true
   },
   "outputs": [],
   "source": [
    "#add new numeric time features\n",
    "\n",
    "train[\"year\"] = train.quote_date.dt.year\n",
    "train[\"month\"] = train.quote_date.dt.month\n",
    "train[\"day\"] = train.quote_date.dt.day\n",
    "train[\"day_of_week\"] = train.quote_date.dt.dayofweek"
   ]
  },
  {
   "cell_type": "code",
   "execution_count": 7,
   "metadata": {
    "collapsed": true
   },
   "outputs": [],
   "source": [
    "#only use numeric data\n",
    "data = train.select_dtypes(include=['int', 'float'])"
   ]
  },
  {
   "cell_type": "code",
   "execution_count": 8,
   "metadata": {
    "collapsed": true
   },
   "outputs": [],
   "source": [
    "#fill null by 0\n",
    "data.replace(np.nan, 0, inplace=True)"
   ]
  },
  {
   "cell_type": "markdown",
   "metadata": {},
   "source": [
    "# Utility Functions"
   ]
  },
  {
   "cell_type": "code",
   "execution_count": 9,
   "metadata": {
    "collapsed": true
   },
   "outputs": [],
   "source": [
    "#define a evaluation function\n",
    "\n",
    "def rmsle_score(preds, true):\n",
    "    rmsle_score = (np.sum((np.log1p(preds)-np.log1p(true))**2)/len(true))**0.5\n",
    "    return rmsle_score"
   ]
  },
  {
   "cell_type": "code",
   "execution_count": 10,
   "metadata": {
    "collapsed": true
   },
   "outputs": [],
   "source": [
    "#Define a evaluation matrix \n",
    "from sklearn.metrics.scorer import make_scorer\n",
    "\n",
    "RMSLE = make_scorer(rmsle_score)"
   ]
  },
  {
   "cell_type": "code",
   "execution_count": 11,
   "metadata": {
    "collapsed": true
   },
   "outputs": [],
   "source": [
    "# define a function for comparing predictions and true data.\n",
    "\n",
    "def compare_result(preds, true):\n",
    "    compare = pd.DataFrame({\"test_id\": true.index,\n",
    "                           \"real_cost\": true,\n",
    "                           \"pred_cost\": preds})\n",
    "    compare = compare[[\"test_id\", \"real_cost\", \"pred_cost\"]].reset_index(drop=True)\n",
    "    \n",
    "    compare[\"error_percent_(%)\"] = np.abs(compare.real_cost - compare.pred_cost) / compare.real_cost * 100\n",
    "    \n",
    "    return compare"
   ]
  },
  {
   "cell_type": "markdown",
   "metadata": {},
   "source": [
    "# application of XGB(eXtreme Gradient Boosting) model"
   ]
  },
  {
   "cell_type": "markdown",
   "metadata": {},
   "source": [
    "### simple XGB regression"
   ]
  },
  {
   "cell_type": "code",
   "execution_count": 12,
   "metadata": {
    "collapsed": true
   },
   "outputs": [],
   "source": [
    "import xgboost as xgb\n",
    "from xgboost import XGBRegressor"
   ]
  },
  {
   "cell_type": "code",
   "execution_count": 13,
   "metadata": {
    "collapsed": true
   },
   "outputs": [],
   "source": [
    "# split for machine learning model\n",
    "\n",
    "train_data, valid_data = train_test_split(data, test_size = 0.2)\n",
    "\n",
    "label = \"cost\"\n",
    "\n",
    "data_labels = train_data.columns.tolist()\n",
    "data_labels.remove(label)\n",
    "\n",
    "train_df = train_data[data_labels]\n",
    "valid_df = valid_data[data_labels]\n",
    "train_label = train_data[label]\n",
    "valid_label = valid_data[label]"
   ]
  },
  {
   "cell_type": "code",
   "execution_count": 14,
   "metadata": {},
   "outputs": [
    {
     "name": "stdout",
     "output_type": "stream",
     "text": [
      "XGB RMSLE is : 0.3157426674807319\n",
      "It takes 1.1503033638000488 seconds\n"
     ]
    }
   ],
   "source": [
    "#XGB regression\n",
    "\n",
    "start = time.time()\n",
    "xgb_regressor=XGBRegressor(max_depth=3, n_estimators=300, learning_rate=0.1)\n",
    "\n",
    "\n",
    "label_log=np.log1p(train_label)\n",
    "\n",
    "model = xgb_regressor.fit(train_df, label_log)\n",
    "xgb_preds1 = model.predict(valid_df)\n",
    "\n",
    "xgb_preds = np.expm1(xgb_preds1)\n",
    "        \n",
    "rmsle_xgb = rmsle_score(xgb_preds, valid_label)\n",
    "print (\"XGB RMSLE is : {}\".format(rmsle_xgb))\n",
    "\n",
    "end = time.time()\n",
    "duration = end - start\n",
    "print (\"It takes {} seconds\".format(duration))"
   ]
  },
  {
   "cell_type": "markdown",
   "metadata": {
    "collapsed": true
   },
   "source": [
    "### XGB Regression and GridSearch"
   ]
  },
  {
   "cell_type": "code",
   "execution_count": 15,
   "metadata": {},
   "outputs": [],
   "source": [
    "from sklearn.model_selection import GridSearchCV\n",
    "#set parameters\n",
    "parameters = {\n",
    "    'max_depth': [3, 5, 7],\n",
    "    \"n_estimators\": [100, 300, 500],\n",
    "}\n",
    "\n",
    "#define XGB Grid Search model\n",
    "xgb_gridsearch = GridSearchCV(xgb_regressor, parameters, scoring=RMSLE, cv=5)"
   ]
  },
  {
   "cell_type": "code",
   "execution_count": 16,
   "metadata": {},
   "outputs": [
    {
     "name": "stdout",
     "output_type": "stream",
     "text": [
      "It takes 66.07281303405762 seconds\n"
     ]
    }
   ],
   "source": [
    "#grid search experiment\n",
    "start = time.time()\n",
    "\n",
    "#label_log=np.log1p(train_label)\n",
    "\n",
    "xgb_gridsearch.fit(train_df, train_label)\n",
    "\n",
    "end = time.time()\n",
    "duration = end-start\n",
    "print (\"It takes {} seconds\".format(duration))"
   ]
  },
  {
   "cell_type": "code",
   "execution_count": 17,
   "metadata": {},
   "outputs": [
    {
     "name": "stdout",
     "output_type": "stream",
     "text": [
      "score: 0.320644267767\n",
      "max_depth: 7\n",
      "n_estimators: 500\n",
      "XGB RMSLE is : 0.21891225168857695\n",
      "It takes 4.433811902999878 seconds\n"
     ]
    }
   ],
   "source": [
    "#get/show the best parameters\n",
    "best_parameters, score, _ = min(xgb_gridsearch.grid_scores_, key=lambda x: x[1])\n",
    "print('score:', score)\n",
    "\n",
    "for param_name in sorted(best_parameters.keys()):\n",
    "    print(\"%s: %r\" % (param_name, best_parameters[param_name]))\n",
    "    \n",
    "\n",
    "#use best model to predict\n",
    "start = time.time()\n",
    "xgb_regressor = XGBRegressor(max_depth=best_parameters[\"max_depth\"], n_estimators=best_parameters[\"n_estimators\"], learning_rate=0.1)\n",
    "\n",
    "label_log = np.log1p(train_label)\n",
    "\n",
    "model = xgb_regressor.fit(train_df, label_log)\n",
    "xgb_preds1 = model.predict(valid_df)\n",
    "\n",
    "xgb_preds = np.expm1(xgb_preds1)\n",
    "        \n",
    "rmsle_xgb = rmsle_score(xgb_preds, valid_label)\n",
    "print (\"XGB RMSLE is : {}\".format(rmsle_xgb))\n",
    "\n",
    "end = time.time()\n",
    "duration = end - start\n",
    "print (\"It takes {} seconds\".format(duration))"
   ]
  },
  {
   "cell_type": "markdown",
   "metadata": {},
   "source": [
    "### XGB Regression and Random Grid Search"
   ]
  },
  {
   "cell_type": "code",
   "execution_count": 18,
   "metadata": {},
   "outputs": [],
   "source": [
    "from sklearn.model_selection import RandomizedSearchCV\n",
    "#define XGB Random Grid Search model\n",
    "xgb_randomsearch = RandomizedSearchCV(xgb_regressor, parameters, scoring=RMSLE, cv=5, n_iter=3) #n_iter works for what?\n",
    "\n",
    "#set parameters\n",
    "parameters = {\n",
    "    'max_depth': [3, 5, 7],\n",
    "    \"n_estimators\": [100, 300, 500],\n",
    "}"
   ]
  },
  {
   "cell_type": "code",
   "execution_count": 19,
   "metadata": {},
   "outputs": [
    {
     "name": "stdout",
     "output_type": "stream",
     "text": [
      "It takes 18.5396831035614 seconds\n"
     ]
    }
   ],
   "source": [
    "#Random Grid Search experiment\n",
    "start = time.time()\n",
    "\n",
    "#label_log=np.log1p(train_label)\n",
    "\n",
    "xgb_randomsearch.fit(train_df, train_label)\n",
    "\n",
    "end = time.time()\n",
    "duration = end-start\n",
    "print (\"It takes {} seconds\".format(duration))"
   ]
  },
  {
   "cell_type": "code",
   "execution_count": 20,
   "metadata": {},
   "outputs": [
    {
     "name": "stdout",
     "output_type": "stream",
     "text": [
      "score: 0.321931551901\n",
      "max_depth: 7\n",
      "n_estimators: 300\n",
      "XGB RMSLE is : 0.2298420632784882\n",
      "It takes 2.453869104385376 seconds\n"
     ]
    }
   ],
   "source": [
    "#get/show the best parameters\n",
    "best_parameters, score, _ = min(xgb_randomsearch.grid_scores_, key=lambda x: x[1])\n",
    "print('score:', score)\n",
    "\n",
    "for param_name in sorted(best_parameters.keys()):\n",
    "    print(\"%s: %r\" % (param_name, best_parameters[param_name]))\n",
    "    \n",
    "#use best model to predict\n",
    "start = time.time()\n",
    "xgb_regressor = XGBRegressor(max_depth=best_parameters[\"max_depth\"], n_estimators=best_parameters[\"n_estimators\"], learning_rate=0.1)\n",
    "\n",
    "label_log = np.log1p(train_label)\n",
    "\n",
    "model = xgb_regressor.fit(train_df, label_log)\n",
    "xgb_preds1 = model.predict(valid_df)\n",
    "\n",
    "xgb_preds = np.expm1(xgb_preds1)\n",
    "        \n",
    "rmsle_xgb = rmsle_score(xgb_preds, valid_label)\n",
    "print (\"XGB RMSLE is : {}\".format(rmsle_xgb))\n",
    "\n",
    "end = time.time()\n",
    "duration = end - start\n",
    "print (\"It takes {} seconds\".format(duration))"
   ]
  },
  {
   "cell_type": "code",
   "execution_count": null,
   "metadata": {
    "collapsed": true
   },
   "outputs": [],
   "source": []
  }
 ],
 "metadata": {
  "kernelspec": {
   "display_name": "Python 3",
   "language": "python",
   "name": "python3"
  },
  "language_info": {
   "codemirror_mode": {
    "name": "ipython",
    "version": 3
   },
   "file_extension": ".py",
   "mimetype": "text/x-python",
   "name": "python",
   "nbconvert_exporter": "python",
   "pygments_lexer": "ipython3",
   "version": "3.6.3"
  }
 },
 "nbformat": 4,
 "nbformat_minor": 2
}
