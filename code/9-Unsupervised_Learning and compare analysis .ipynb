{
 "cells": [
  {
   "cell_type": "markdown",
   "metadata": {},
   "source": [
    "# Caterpillar Tube Pricing\n",
    "## Environment : Python 3\n",
    "## Author : Arion"
   ]
  },
  {
   "cell_type": "markdown",
   "metadata": {},
   "source": [
    "in this notebook, we will use some unsupervised learning methods and analyze the differences before/after PCA"
   ]
  },
  {
   "cell_type": "code",
   "execution_count": 1,
   "metadata": {
    "collapsed": true
   },
   "outputs": [],
   "source": [
    "%matplotlib inline\n",
    "import matplotlib\n",
    "import matplotlib.pyplot as plt\n",
    "import numpy as np\n",
    "import pandas as pd\n",
    "import time\n",
    "from sklearn.preprocessing import StandardScaler\n",
    "pd.set_option('display.max_columns', 100)\n",
    "pd.set_option('display.max_colwidth', 500)\n",
    "pd.set_option('display.max_rows', 1000)\n",
    "\n",
    "import warnings\n",
    "warnings.filterwarnings('ignore')\n",
    "%matplotlib inline "
   ]
  },
  {
   "cell_type": "code",
   "execution_count": 2,
   "metadata": {
    "collapsed": true
   },
   "outputs": [],
   "source": [
    "train=pd.read_csv('../output/combination.csv')\n",
    "train.quote_date = pd.to_datetime(train.quote_date)\n",
    "train[\"year\"] = train.quote_date.dt.year\n",
    "train[\"month\"] = train.quote_date.dt.month\n",
    "train[\"day\"] = train.quote_date.dt.day\n",
    "train[\"day_of_week\"] = train.quote_date.dt.dayofweek\n",
    "data = train.select_dtypes(include=['int', 'float']).copy()\n",
    "data.replace(np.nan, 0, inplace=True)\n",
    "data.drop(['cost'], axis=1, inplace=True)\n",
    "data_columns=data.columns.tolist()"
   ]
  },
  {
   "cell_type": "markdown",
   "metadata": {},
   "source": [
    "# PCA"
   ]
  },
  {
   "cell_type": "code",
   "execution_count": 3,
   "metadata": {},
   "outputs": [
    {
     "name": "stdout",
     "output_type": "stream",
     "text": [
      "[ 0.1439825  0.1054679  0.0856404  0.0827789  0.0615793  0.0589582\n",
      "  0.0573412  0.0531985  0.0507421  0.0492813  0.0468882  0.0447302\n",
      "  0.0394631]\n"
     ]
    }
   ],
   "source": [
    "from sklearn.decomposition import PCA\n",
    "from sklearn.preprocessing import StandardScaler\n",
    "np.set_printoptions(suppress=True)\n",
    "\n",
    "# it is important to perform feature scaling before PCA\n",
    "scaler=StandardScaler().fit(data.values)\n",
    "scale_data=scaler.transform(data)\n",
    "\n",
    "pca=PCA(n_components=13)\n",
    "pca.fit(scale_data)\n",
    "print((np.around(pca.explained_variance_ratio_, decimals=7)))"
   ]
  },
  {
   "cell_type": "code",
   "execution_count": 4,
   "metadata": {},
   "outputs": [
    {
     "name": "stdout",
     "output_type": "stream",
     "text": [
      "[ 0.14398254  0.24945044  0.33509088  0.41786976  0.47944902  0.5384072\n",
      "  0.59574838  0.64894692  0.69968902  0.74897033  0.79585858  0.84058878\n",
      "  0.88005185]\n"
     ]
    },
    {
     "data": {
      "text/plain": [
       "[<matplotlib.lines.Line2D at 0x1a15f77470>]"
      ]
     },
     "execution_count": 4,
     "metadata": {},
     "output_type": "execute_result"
    },
    {
     "data": {
      "image/png": "[encoded data removed]",
      "text/plain": [
       "<matplotlib.figure.Figure at 0x110438860>"
      ]
     },
     "metadata": {},
     "output_type": "display_data"
    }
   ],
   "source": [
    "print(np.cumsum(pca.explained_variance_ratio_))\n",
    "plt.plot(np.cumsum(pca.explained_variance_ratio_))"
   ]
  },
  {
   "cell_type": "code",
   "execution_count": 5,
   "metadata": {},
   "outputs": [
    {
     "name": "stdout",
     "output_type": "stream",
     "text": [
      "data shape before pca transform is (30213, 18)\n",
      "data shape after pca transform is(30213, 13)\n"
     ]
    }
   ],
   "source": [
    "print(\"data shape before pca transform is {}\".format(data.shape))\n",
    "data_pca=pca.transform(scale_data)\n",
    "print(\"data shape after pca transform is{}\".format(data_pca.shape))"
   ]
  },
  {
   "cell_type": "code",
   "execution_count": 6,
   "metadata": {},
   "outputs": [
    {
     "data": {
      "text/html": [
       "<div>\n",
       "<style>\n",
       "    .dataframe thead tr:only-child th {\n",
       "        text-align: right;\n",
       "    }\n",
       "\n",
       "    .dataframe thead th {\n",
       "        text-align: left;\n",
       "    }\n",
       "\n",
       "    .dataframe tbody tr th {\n",
       "        vertical-align: top;\n",
       "    }\n",
       "</style>\n",
       "<table border=\"1\" class=\"dataframe\">\n",
       "  <thead>\n",
       "    <tr style=\"text-align: right;\">\n",
       "      <th></th>\n",
       "      <th>annual_usage</th>\n",
       "      <th>min_order_quantity</th>\n",
       "      <th>quantity</th>\n",
       "      <th>diameter</th>\n",
       "      <th>wall</th>\n",
       "      <th>length</th>\n",
       "      <th>num_bends</th>\n",
       "      <th>bend_radius</th>\n",
       "      <th>num_boss</th>\n",
       "      <th>num_bracket</th>\n",
       "      <th>other</th>\n",
       "      <th>type_totals</th>\n",
       "      <th>component_totals</th>\n",
       "      <th>spec_totals</th>\n",
       "      <th>year</th>\n",
       "      <th>month</th>\n",
       "      <th>day</th>\n",
       "      <th>day_of_week</th>\n",
       "    </tr>\n",
       "  </thead>\n",
       "  <tbody>\n",
       "    <tr>\n",
       "      <th>0</th>\n",
       "      <td>-0.075689</td>\n",
       "      <td>-0.163601</td>\n",
       "      <td>-0.528395</td>\n",
       "      <td>-0.599868</td>\n",
       "      <td>-1.05666</td>\n",
       "      <td>0.622378</td>\n",
       "      <td>1.903563</td>\n",
       "      <td>-0.709165</td>\n",
       "      <td>-0.136529</td>\n",
       "      <td>-0.050838</td>\n",
       "      <td>-0.090186</td>\n",
       "      <td>-1.03955</td>\n",
       "      <td>-0.787636</td>\n",
       "      <td>-0.443042</td>\n",
       "      <td>0.349835</td>\n",
       "      <td>-0.040316</td>\n",
       "      <td>-0.09572</td>\n",
       "      <td>1.258896</td>\n",
       "    </tr>\n",
       "    <tr>\n",
       "      <th>1</th>\n",
       "      <td>-0.075689</td>\n",
       "      <td>-0.163601</td>\n",
       "      <td>-0.514263</td>\n",
       "      <td>-0.599868</td>\n",
       "      <td>-1.05666</td>\n",
       "      <td>0.622378</td>\n",
       "      <td>1.903563</td>\n",
       "      <td>-0.709165</td>\n",
       "      <td>-0.136529</td>\n",
       "      <td>-0.050838</td>\n",
       "      <td>-0.090186</td>\n",
       "      <td>-1.03955</td>\n",
       "      <td>-0.787636</td>\n",
       "      <td>-0.443042</td>\n",
       "      <td>0.349835</td>\n",
       "      <td>-0.040316</td>\n",
       "      <td>-0.09572</td>\n",
       "      <td>1.258896</td>\n",
       "    </tr>\n",
       "    <tr>\n",
       "      <th>2</th>\n",
       "      <td>-0.075689</td>\n",
       "      <td>-0.163601</td>\n",
       "      <td>-0.471866</td>\n",
       "      <td>-0.599868</td>\n",
       "      <td>-1.05666</td>\n",
       "      <td>0.622378</td>\n",
       "      <td>1.903563</td>\n",
       "      <td>-0.709165</td>\n",
       "      <td>-0.136529</td>\n",
       "      <td>-0.050838</td>\n",
       "      <td>-0.090186</td>\n",
       "      <td>-1.03955</td>\n",
       "      <td>-0.787636</td>\n",
       "      <td>-0.443042</td>\n",
       "      <td>0.349835</td>\n",
       "      <td>-0.040316</td>\n",
       "      <td>-0.09572</td>\n",
       "      <td>1.258896</td>\n",
       "    </tr>\n",
       "    <tr>\n",
       "      <th>3</th>\n",
       "      <td>-0.075689</td>\n",
       "      <td>-0.163601</td>\n",
       "      <td>-0.401205</td>\n",
       "      <td>-0.599868</td>\n",
       "      <td>-1.05666</td>\n",
       "      <td>0.622378</td>\n",
       "      <td>1.903563</td>\n",
       "      <td>-0.709165</td>\n",
       "      <td>-0.136529</td>\n",
       "      <td>-0.050838</td>\n",
       "      <td>-0.090186</td>\n",
       "      <td>-1.03955</td>\n",
       "      <td>-0.787636</td>\n",
       "      <td>-0.443042</td>\n",
       "      <td>0.349835</td>\n",
       "      <td>-0.040316</td>\n",
       "      <td>-0.09572</td>\n",
       "      <td>1.258896</td>\n",
       "    </tr>\n",
       "    <tr>\n",
       "      <th>4</th>\n",
       "      <td>-0.075689</td>\n",
       "      <td>-0.163601</td>\n",
       "      <td>-0.189222</td>\n",
       "      <td>-0.599868</td>\n",
       "      <td>-1.05666</td>\n",
       "      <td>0.622378</td>\n",
       "      <td>1.903563</td>\n",
       "      <td>-0.709165</td>\n",
       "      <td>-0.136529</td>\n",
       "      <td>-0.050838</td>\n",
       "      <td>-0.090186</td>\n",
       "      <td>-1.03955</td>\n",
       "      <td>-0.787636</td>\n",
       "      <td>-0.443042</td>\n",
       "      <td>0.349835</td>\n",
       "      <td>-0.040316</td>\n",
       "      <td>-0.09572</td>\n",
       "      <td>1.258896</td>\n",
       "    </tr>\n",
       "  </tbody>\n",
       "</table>\n",
       "</div>"
      ],
      "text/plain": [
       "   annual_usage  min_order_quantity  quantity  diameter     wall    length  \\\n",
       "0     -0.075689           -0.163601 -0.528395 -0.599868 -1.05666  0.622378   \n",
       "1     -0.075689           -0.163601 -0.514263 -0.599868 -1.05666  0.622378   \n",
       "2     -0.075689           -0.163601 -0.471866 -0.599868 -1.05666  0.622378   \n",
       "3     -0.075689           -0.163601 -0.401205 -0.599868 -1.05666  0.622378   \n",
       "4     -0.075689           -0.163601 -0.189222 -0.599868 -1.05666  0.622378   \n",
       "\n",
       "   num_bends  bend_radius  num_boss  num_bracket     other  type_totals  \\\n",
       "0   1.903563    -0.709165 -0.136529    -0.050838 -0.090186     -1.03955   \n",
       "1   1.903563    -0.709165 -0.136529    -0.050838 -0.090186     -1.03955   \n",
       "2   1.903563    -0.709165 -0.136529    -0.050838 -0.090186     -1.03955   \n",
       "3   1.903563    -0.709165 -0.136529    -0.050838 -0.090186     -1.03955   \n",
       "4   1.903563    -0.709165 -0.136529    -0.050838 -0.090186     -1.03955   \n",
       "\n",
       "   component_totals  spec_totals      year     month      day  day_of_week  \n",
       "0         -0.787636    -0.443042  0.349835 -0.040316 -0.09572     1.258896  \n",
       "1         -0.787636    -0.443042  0.349835 -0.040316 -0.09572     1.258896  \n",
       "2         -0.787636    -0.443042  0.349835 -0.040316 -0.09572     1.258896  \n",
       "3         -0.787636    -0.443042  0.349835 -0.040316 -0.09572     1.258896  \n",
       "4         -0.787636    -0.443042  0.349835 -0.040316 -0.09572     1.258896  "
      ]
     },
     "execution_count": 6,
     "metadata": {},
     "output_type": "execute_result"
    }
   ],
   "source": [
    "# reconstruct dataframe with scaled data\n",
    "data=pd.DataFrame(data=scale_data, columns=data_columns)\n",
    "data.head(5)"
   ]
  },
  {
   "cell_type": "code",
   "execution_count": 7,
   "metadata": {
    "collapsed": true
   },
   "outputs": [],
   "source": [
    "PCs=[]\n",
    "for i in range(1,14):\n",
    "    PCs.append('PC'+str(i))\n",
    "               \n",
    "pca_data=pd.DataFrame(data=data_pca, columns=PCs)"
   ]
  },
  {
   "cell_type": "code",
   "execution_count": 8,
   "metadata": {},
   "outputs": [
    {
     "data": {
      "text/html": [
       "<div>\n",
       "<style>\n",
       "    .dataframe thead tr:only-child th {\n",
       "        text-align: right;\n",
       "    }\n",
       "\n",
       "    .dataframe thead th {\n",
       "        text-align: left;\n",
       "    }\n",
       "\n",
       "    .dataframe tbody tr th {\n",
       "        vertical-align: top;\n",
       "    }\n",
       "</style>\n",
       "<table border=\"1\" class=\"dataframe\">\n",
       "  <thead>\n",
       "    <tr style=\"text-align: right;\">\n",
       "      <th></th>\n",
       "      <th>PC1</th>\n",
       "      <th>PC2</th>\n",
       "      <th>PC3</th>\n",
       "      <th>PC4</th>\n",
       "      <th>PC5</th>\n",
       "      <th>PC6</th>\n",
       "      <th>PC7</th>\n",
       "      <th>PC8</th>\n",
       "      <th>PC9</th>\n",
       "      <th>PC10</th>\n",
       "      <th>PC11</th>\n",
       "      <th>PC12</th>\n",
       "      <th>PC13</th>\n",
       "    </tr>\n",
       "  </thead>\n",
       "  <tbody>\n",
       "    <tr>\n",
       "      <th>diameter</th>\n",
       "      <td>0.859948</td>\n",
       "      <td>-0.075222</td>\n",
       "      <td>-0.095444</td>\n",
       "      <td>-0.031766</td>\n",
       "      <td>-0.081679</td>\n",
       "      <td>0.023198</td>\n",
       "      <td>0.135360</td>\n",
       "      <td>0.020260</td>\n",
       "      <td>-0.003522</td>\n",
       "      <td>-0.003516</td>\n",
       "      <td>0.030869</td>\n",
       "      <td>0.048496</td>\n",
       "      <td>-0.001458</td>\n",
       "    </tr>\n",
       "    <tr>\n",
       "      <th>bend_radius</th>\n",
       "      <td>0.795688</td>\n",
       "      <td>-0.028907</td>\n",
       "      <td>-0.213396</td>\n",
       "      <td>0.085459</td>\n",
       "      <td>-0.084052</td>\n",
       "      <td>0.025120</td>\n",
       "      <td>0.068180</td>\n",
       "      <td>0.027839</td>\n",
       "      <td>-0.022034</td>\n",
       "      <td>-0.046074</td>\n",
       "      <td>0.037246</td>\n",
       "      <td>0.158328</td>\n",
       "      <td>0.072789</td>\n",
       "    </tr>\n",
       "    <tr>\n",
       "      <th>wall</th>\n",
       "      <td>0.566775</td>\n",
       "      <td>0.410400</td>\n",
       "      <td>-0.210149</td>\n",
       "      <td>0.148141</td>\n",
       "      <td>0.103229</td>\n",
       "      <td>-0.117276</td>\n",
       "      <td>-0.069270</td>\n",
       "      <td>0.076127</td>\n",
       "      <td>0.084904</td>\n",
       "      <td>-0.128413</td>\n",
       "      <td>-0.007896</td>\n",
       "      <td>0.320299</td>\n",
       "      <td>0.258190</td>\n",
       "    </tr>\n",
       "    <tr>\n",
       "      <th>num_boss</th>\n",
       "      <td>0.351290</td>\n",
       "      <td>0.153983</td>\n",
       "      <td>0.011159</td>\n",
       "      <td>0.145322</td>\n",
       "      <td>-0.265057</td>\n",
       "      <td>0.008920</td>\n",
       "      <td>0.643815</td>\n",
       "      <td>-0.127821</td>\n",
       "      <td>-0.248564</td>\n",
       "      <td>0.160084</td>\n",
       "      <td>-0.195921</td>\n",
       "      <td>-0.375679</td>\n",
       "      <td>-0.125665</td>\n",
       "    </tr>\n",
       "    <tr>\n",
       "      <th>spec_totals</th>\n",
       "      <td>0.211113</td>\n",
       "      <td>0.061098</td>\n",
       "      <td>0.438502</td>\n",
       "      <td>0.147196</td>\n",
       "      <td>0.215425</td>\n",
       "      <td>-0.070999</td>\n",
       "      <td>-0.063647</td>\n",
       "      <td>-0.250130</td>\n",
       "      <td>-0.479950</td>\n",
       "      <td>0.036789</td>\n",
       "      <td>0.598645</td>\n",
       "      <td>-0.029217</td>\n",
       "      <td>0.110120</td>\n",
       "    </tr>\n",
       "    <tr>\n",
       "      <th>min_order_quantity</th>\n",
       "      <td>0.167079</td>\n",
       "      <td>-0.001524</td>\n",
       "      <td>0.126859</td>\n",
       "      <td>0.049436</td>\n",
       "      <td>0.649477</td>\n",
       "      <td>0.217848</td>\n",
       "      <td>0.213932</td>\n",
       "      <td>-0.255597</td>\n",
       "      <td>0.341269</td>\n",
       "      <td>-0.358593</td>\n",
       "      <td>-0.046321</td>\n",
       "      <td>-0.305296</td>\n",
       "      <td>0.116136</td>\n",
       "    </tr>\n",
       "    <tr>\n",
       "      <th>other</th>\n",
       "      <td>0.145199</td>\n",
       "      <td>0.228255</td>\n",
       "      <td>0.111098</td>\n",
       "      <td>0.149222</td>\n",
       "      <td>-0.269970</td>\n",
       "      <td>0.569042</td>\n",
       "      <td>-0.060867</td>\n",
       "      <td>0.084998</td>\n",
       "      <td>0.469694</td>\n",
       "      <td>0.271368</td>\n",
       "      <td>0.404564</td>\n",
       "      <td>-0.090231</td>\n",
       "      <td>-0.110324</td>\n",
       "    </tr>\n",
       "    <tr>\n",
       "      <th>num_bracket</th>\n",
       "      <td>0.134143</td>\n",
       "      <td>0.084448</td>\n",
       "      <td>0.141740</td>\n",
       "      <td>0.059736</td>\n",
       "      <td>-0.199958</td>\n",
       "      <td>0.622718</td>\n",
       "      <td>-0.356263</td>\n",
       "      <td>-0.016697</td>\n",
       "      <td>-0.380569</td>\n",
       "      <td>-0.412085</td>\n",
       "      <td>-0.272288</td>\n",
       "      <td>-0.043166</td>\n",
       "      <td>-0.036377</td>\n",
       "    </tr>\n",
       "    <tr>\n",
       "      <th>month</th>\n",
       "      <td>0.069514</td>\n",
       "      <td>0.263161</td>\n",
       "      <td>-0.527935</td>\n",
       "      <td>-0.113217</td>\n",
       "      <td>0.127316</td>\n",
       "      <td>-0.009901</td>\n",
       "      <td>-0.381557</td>\n",
       "      <td>-0.093830</td>\n",
       "      <td>-0.044807</td>\n",
       "      <td>0.304771</td>\n",
       "      <td>-0.084064</td>\n",
       "      <td>-0.450474</td>\n",
       "      <td>0.266776</td>\n",
       "    </tr>\n",
       "    <tr>\n",
       "      <th>annual_usage</th>\n",
       "      <td>0.043932</td>\n",
       "      <td>0.010560</td>\n",
       "      <td>0.186025</td>\n",
       "      <td>0.054596</td>\n",
       "      <td>0.483289</td>\n",
       "      <td>0.222229</td>\n",
       "      <td>0.139077</td>\n",
       "      <td>0.731109</td>\n",
       "      <td>-0.203757</td>\n",
       "      <td>0.261279</td>\n",
       "      <td>-0.101732</td>\n",
       "      <td>0.011371</td>\n",
       "      <td>0.028007</td>\n",
       "    </tr>\n",
       "    <tr>\n",
       "      <th>length</th>\n",
       "      <td>0.017146</td>\n",
       "      <td>-0.235761</td>\n",
       "      <td>-0.374757</td>\n",
       "      <td>0.781635</td>\n",
       "      <td>-0.004744</td>\n",
       "      <td>-0.007315</td>\n",
       "      <td>-0.038576</td>\n",
       "      <td>0.018007</td>\n",
       "      <td>0.007081</td>\n",
       "      <td>-0.021916</td>\n",
       "      <td>-0.029927</td>\n",
       "      <td>0.028472</td>\n",
       "      <td>0.027122</td>\n",
       "    </tr>\n",
       "    <tr>\n",
       "      <th>day</th>\n",
       "      <td>0.011077</td>\n",
       "      <td>-0.334821</td>\n",
       "      <td>0.591604</td>\n",
       "      <td>0.176077</td>\n",
       "      <td>-0.124787</td>\n",
       "      <td>-0.007141</td>\n",
       "      <td>0.085479</td>\n",
       "      <td>-0.103816</td>\n",
       "      <td>0.233149</td>\n",
       "      <td>0.073033</td>\n",
       "      <td>-0.249529</td>\n",
       "      <td>0.134113</td>\n",
       "      <td>0.302157</td>\n",
       "    </tr>\n",
       "    <tr>\n",
       "      <th>quantity</th>\n",
       "      <td>-0.190373</td>\n",
       "      <td>-0.003803</td>\n",
       "      <td>-0.317010</td>\n",
       "      <td>-0.127084</td>\n",
       "      <td>0.306085</td>\n",
       "      <td>0.403422</td>\n",
       "      <td>0.181827</td>\n",
       "      <td>-0.450708</td>\n",
       "      <td>-0.123837</td>\n",
       "      <td>0.340203</td>\n",
       "      <td>-0.111605</td>\n",
       "      <td>0.439398</td>\n",
       "      <td>-0.110751</td>\n",
       "    </tr>\n",
       "    <tr>\n",
       "      <th>type_totals</th>\n",
       "      <td>-0.195809</td>\n",
       "      <td>0.828641</td>\n",
       "      <td>0.046497</td>\n",
       "      <td>0.227866</td>\n",
       "      <td>-0.052733</td>\n",
       "      <td>-0.029458</td>\n",
       "      <td>0.122674</td>\n",
       "      <td>-0.001279</td>\n",
       "      <td>0.018163</td>\n",
       "      <td>-0.030110</td>\n",
       "      <td>-0.067289</td>\n",
       "      <td>0.097669</td>\n",
       "      <td>0.157416</td>\n",
       "    </tr>\n",
       "    <tr>\n",
       "      <th>num_bends</th>\n",
       "      <td>-0.313697</td>\n",
       "      <td>-0.186431</td>\n",
       "      <td>-0.110336</td>\n",
       "      <td>0.787061</td>\n",
       "      <td>0.102048</td>\n",
       "      <td>-0.042963</td>\n",
       "      <td>-0.060680</td>\n",
       "      <td>-0.029908</td>\n",
       "      <td>-0.036553</td>\n",
       "      <td>0.006122</td>\n",
       "      <td>0.025008</td>\n",
       "      <td>-0.044777</td>\n",
       "      <td>-0.162942</td>\n",
       "    </tr>\n",
       "    <tr>\n",
       "      <th>year</th>\n",
       "      <td>-0.323770</td>\n",
       "      <td>-0.003940</td>\n",
       "      <td>-0.468816</td>\n",
       "      <td>-0.168160</td>\n",
       "      <td>-0.013916</td>\n",
       "      <td>0.071727</td>\n",
       "      <td>0.334520</td>\n",
       "      <td>0.195159</td>\n",
       "      <td>0.001430</td>\n",
       "      <td>-0.428020</td>\n",
       "      <td>0.296558</td>\n",
       "      <td>0.026712</td>\n",
       "      <td>-0.079641</td>\n",
       "    </tr>\n",
       "    <tr>\n",
       "      <th>day_of_week</th>\n",
       "      <td>-0.432629</td>\n",
       "      <td>-0.363681</td>\n",
       "      <td>-0.188775</td>\n",
       "      <td>-0.025112</td>\n",
       "      <td>-0.236827</td>\n",
       "      <td>0.246709</td>\n",
       "      <td>0.242275</td>\n",
       "      <td>0.043133</td>\n",
       "      <td>-0.126914</td>\n",
       "      <td>0.017196</td>\n",
       "      <td>0.131707</td>\n",
       "      <td>-0.015880</td>\n",
       "      <td>0.590078</td>\n",
       "    </tr>\n",
       "    <tr>\n",
       "      <th>component_totals</th>\n",
       "      <td>-0.436685</td>\n",
       "      <td>0.738966</td>\n",
       "      <td>0.166640</td>\n",
       "      <td>0.120396</td>\n",
       "      <td>-0.064409</td>\n",
       "      <td>-0.033145</td>\n",
       "      <td>0.115379</td>\n",
       "      <td>-0.021175</td>\n",
       "      <td>-0.023696</td>\n",
       "      <td>-0.047641</td>\n",
       "      <td>-0.037257</td>\n",
       "      <td>0.049999</td>\n",
       "      <td>0.036800</td>\n",
       "    </tr>\n",
       "  </tbody>\n",
       "</table>\n",
       "</div>"
      ],
      "text/plain": [
       "                         PC1       PC2       PC3       PC4       PC5  \\\n",
       "diameter            0.859948 -0.075222 -0.095444 -0.031766 -0.081679   \n",
       "bend_radius         0.795688 -0.028907 -0.213396  0.085459 -0.084052   \n",
       "wall                0.566775  0.410400 -0.210149  0.148141  0.103229   \n",
       "num_boss            0.351290  0.153983  0.011159  0.145322 -0.265057   \n",
       "spec_totals         0.211113  0.061098  0.438502  0.147196  0.215425   \n",
       "min_order_quantity  0.167079 -0.001524  0.126859  0.049436  0.649477   \n",
       "other               0.145199  0.228255  0.111098  0.149222 -0.269970   \n",
       "num_bracket         0.134143  0.084448  0.141740  0.059736 -0.199958   \n",
       "month               0.069514  0.263161 -0.527935 -0.113217  0.127316   \n",
       "annual_usage        0.043932  0.010560  0.186025  0.054596  0.483289   \n",
       "length              0.017146 -0.235761 -0.374757  0.781635 -0.004744   \n",
       "day                 0.011077 -0.334821  0.591604  0.176077 -0.124787   \n",
       "quantity           -0.190373 -0.003803 -0.317010 -0.127084  0.306085   \n",
       "type_totals        -0.195809  0.828641  0.046497  0.227866 -0.052733   \n",
       "num_bends          -0.313697 -0.186431 -0.110336  0.787061  0.102048   \n",
       "year               -0.323770 -0.003940 -0.468816 -0.168160 -0.013916   \n",
       "day_of_week        -0.432629 -0.363681 -0.188775 -0.025112 -0.236827   \n",
       "component_totals   -0.436685  0.738966  0.166640  0.120396 -0.064409   \n",
       "\n",
       "                         PC6       PC7       PC8       PC9      PC10  \\\n",
       "diameter            0.023198  0.135360  0.020260 -0.003522 -0.003516   \n",
       "bend_radius         0.025120  0.068180  0.027839 -0.022034 -0.046074   \n",
       "wall               -0.117276 -0.069270  0.076127  0.084904 -0.128413   \n",
       "num_boss            0.008920  0.643815 -0.127821 -0.248564  0.160084   \n",
       "spec_totals        -0.070999 -0.063647 -0.250130 -0.479950  0.036789   \n",
       "min_order_quantity  0.217848  0.213932 -0.255597  0.341269 -0.358593   \n",
       "other               0.569042 -0.060867  0.084998  0.469694  0.271368   \n",
       "num_bracket         0.622718 -0.356263 -0.016697 -0.380569 -0.412085   \n",
       "month              -0.009901 -0.381557 -0.093830 -0.044807  0.304771   \n",
       "annual_usage        0.222229  0.139077  0.731109 -0.203757  0.261279   \n",
       "length             -0.007315 -0.038576  0.018007  0.007081 -0.021916   \n",
       "day                -0.007141  0.085479 -0.103816  0.233149  0.073033   \n",
       "quantity            0.403422  0.181827 -0.450708 -0.123837  0.340203   \n",
       "type_totals        -0.029458  0.122674 -0.001279  0.018163 -0.030110   \n",
       "num_bends          -0.042963 -0.060680 -0.029908 -0.036553  0.006122   \n",
       "year                0.071727  0.334520  0.195159  0.001430 -0.428020   \n",
       "day_of_week         0.246709  0.242275  0.043133 -0.126914  0.017196   \n",
       "component_totals   -0.033145  0.115379 -0.021175 -0.023696 -0.047641   \n",
       "\n",
       "                        PC11      PC12      PC13  \n",
       "diameter            0.030869  0.048496 -0.001458  \n",
       "bend_radius         0.037246  0.158328  0.072789  \n",
       "wall               -0.007896  0.320299  0.258190  \n",
       "num_boss           -0.195921 -0.375679 -0.125665  \n",
       "spec_totals         0.598645 -0.029217  0.110120  \n",
       "min_order_quantity -0.046321 -0.305296  0.116136  \n",
       "other               0.404564 -0.090231 -0.110324  \n",
       "num_bracket        -0.272288 -0.043166 -0.036377  \n",
       "month              -0.084064 -0.450474  0.266776  \n",
       "annual_usage       -0.101732  0.011371  0.028007  \n",
       "length             -0.029927  0.028472  0.027122  \n",
       "day                -0.249529  0.134113  0.302157  \n",
       "quantity           -0.111605  0.439398 -0.110751  \n",
       "type_totals        -0.067289  0.097669  0.157416  \n",
       "num_bends           0.025008 -0.044777 -0.162942  \n",
       "year                0.296558  0.026712 -0.079641  \n",
       "day_of_week         0.131707 -0.015880  0.590078  \n",
       "component_totals   -0.037257  0.049999  0.036800  "
      ]
     },
     "execution_count": 8,
     "metadata": {},
     "output_type": "execute_result"
    }
   ],
   "source": [
    "data_withPCs=pd.concat([data, pca_data], axis=1)\n",
    "features_PC_correlation=data_withPCs.corr().filter(PCs).drop(PCs)\n",
    "features_PC_correlation.sort_values(by='PC1', ascending=False)"
   ]
  },
  {
   "cell_type": "markdown",
   "metadata": {},
   "source": [
    "# Kmeans"
   ]
  },
  {
   "cell_type": "code",
   "execution_count": 9,
   "metadata": {
    "collapsed": true
   },
   "outputs": [],
   "source": [
    "# Improved version of cluster_results function of the visualisation script\n",
    "# This displays the sample index when the marker of sample are displayed\n",
    "import matplotlib.pyplot as plt\n",
    "import matplotlib.cm as cm\n",
    "\n",
    "def cluster_results(reduced_data, preds, centers):\n",
    "    '''\n",
    "    Visualizes the PCA-reduced cluster data in two dimensions\n",
    "    Adds cues for cluster centers and student-selected sample data\n",
    "    '''\n",
    "\n",
    "    predictions = pd.DataFrame(preds, columns = ['Cluster'])\n",
    "    plot_data = pd.concat([predictions, reduced_data], axis = 1)\n",
    "\n",
    "    # Generate the cluster plot\n",
    "    fig, ax = plt.subplots(figsize = (14,8))\n",
    "\n",
    "    # Color map\n",
    "    cmap = cm.get_cmap('gist_rainbow')\n",
    "\n",
    "    # Color the points based on assigned cluster\n",
    "    for i, cluster in plot_data.groupby('Cluster'):   \n",
    "        cluster.plot(ax = ax, kind = 'scatter', x = 'PC1', y = 'PC2', \\\n",
    "                     color = cmap((i)*1.0/(len(centers)-1)), label = 'Cluster %i'%(i), s=30);\n",
    "\n",
    "    # Plot centers with indicators\n",
    "    for i, c in enumerate(centers):\n",
    "        ax.scatter(x = c[0], y = c[1], color = 'white', edgecolors = 'black', \\\n",
    "                   alpha = 1, linewidth = 2, marker = 'o', s=200);\n",
    "        ax.scatter(x = c[0], y = c[1], marker='$%d$'%(i), alpha = 1, s=100);\n",
    "\n",
    "    # Set plot title\n",
    "    ax.set_title(\"Cluster Learning on PCA-Reduced Data - Centroids Marked by Number\\nTransformed Sample Data Marked by Black Cross\");"
   ]
  },
  {
   "cell_type": "code",
   "execution_count": 10,
   "metadata": {
    "collapsed": true
   },
   "outputs": [],
   "source": [
    "data_withPCs[\"supplier\"] = train[\"supplier\"]"
   ]
  },
  {
   "cell_type": "code",
   "execution_count": 11,
   "metadata": {},
   "outputs": [
    {
     "data": {
      "image/png": "[encoded data removed]",
      "text/plain": [
       "<matplotlib.figure.Figure at 0x1a16201588>"
      ]
     },
     "metadata": {},
     "output_type": "display_data"
    }
   ],
   "source": [
    "# pick 4 top suppliers, and plot them alongside PC1 and PC2 axis\n",
    "top_suppliers=['S-0026','S-0041','S-0072','S-0054']\n",
    "\n",
    "match=(data_withPCs.supplier=='S-0026') | (data_withPCs.supplier=='S-0041') |\\\n",
    "        (data_withPCs.supplier=='S-0072') | (data_withPCs.supplier=='S-0054')\n",
    "top_suppliers_data=data_withPCs.loc[match].copy()\n",
    "\n",
    "# plot the four supplier on scatter plot\n",
    "groups=top_suppliers_data.groupby('supplier')\n",
    "fig, ax = plt.subplots(figsize = (14,8))\n",
    "ax.margins(0.05)\n",
    "for name, group in groups:\n",
    "    ax.plot(group.PC1, group.PC2, marker='o',linestyle='',label=name)\n",
    "ax.legend()\n",
    "plt.show()"
   ]
  },
  {
   "cell_type": "code",
   "execution_count": 12,
   "metadata": {
    "collapsed": true
   },
   "outputs": [],
   "source": [
    "top_suppliers_data.drop(\"supplier\", axis=1, inplace=True)"
   ]
  },
  {
   "cell_type": "code",
   "execution_count": 13,
   "metadata": {},
   "outputs": [
    {
     "data": {
      "text/plain": [
       "<matplotlib.collections.PathCollection at 0x1a15a968d0>"
      ]
     },
     "execution_count": 13,
     "metadata": {},
     "output_type": "execute_result"
    },
    {
     "data": {
      "image/png": "[encoded data removed]",
      "text/plain": [
       "<matplotlib.figure.Figure at 0x1a16201470>"
      ]
     },
     "metadata": {},
     "output_type": "display_data"
    }
   ],
   "source": [
    "from sklearn.cluster import KMeans\n",
    "clusterer=KMeans(n_clusters=4, random_state=0)\n",
    "kmean_preds=clusterer.fit_predict(top_suppliers_data[['PC1','PC2']])    \n",
    "\n",
    "# find the cluster centers \n",
    "centers=clusterer.cluster_centers_\n",
    "top_suppliers_data['cluster']=kmean_preds\n",
    "\n",
    "fig, ax = plt.subplots(figsize = (14,8))\n",
    "plt.scatter(top_suppliers_data.PC1, top_suppliers_data.PC2, c=top_suppliers_data.cluster)"
   ]
  },
  {
   "cell_type": "markdown",
   "metadata": {
    "collapsed": true
   },
   "source": [
    "# present the efficacy of PCA and Kmeans"
   ]
  },
  {
   "cell_type": "markdown",
   "metadata": {},
   "source": [
    "## PCA "
   ]
  },
  {
   "cell_type": "code",
   "execution_count": 14,
   "metadata": {
    "collapsed": true
   },
   "outputs": [],
   "source": [
    "data = pd.read_csv(\"../output/combination.csv\")"
   ]
  },
  {
   "cell_type": "code",
   "execution_count": 15,
   "metadata": {
    "collapsed": true
   },
   "outputs": [],
   "source": [
    "data.quote_date = pd.to_datetime(data.quote_date)\n",
    "data[\"year\"] = data.quote_date.dt.year\n",
    "data[\"month\"] = data.quote_date.dt.month\n",
    "data[\"day\"] = data.quote_date.dt.day\n",
    "data[\"day_of_week\"] = data.quote_date.dt.dayofweek"
   ]
  },
  {
   "cell_type": "code",
   "execution_count": 16,
   "metadata": {},
   "outputs": [
    {
     "data": {
      "text/html": [
       "<div>\n",
       "<style>\n",
       "    .dataframe thead tr:only-child th {\n",
       "        text-align: right;\n",
       "    }\n",
       "\n",
       "    .dataframe thead th {\n",
       "        text-align: left;\n",
       "    }\n",
       "\n",
       "    .dataframe tbody tr th {\n",
       "        vertical-align: top;\n",
       "    }\n",
       "</style>\n",
       "<table border=\"1\" class=\"dataframe\">\n",
       "  <thead>\n",
       "    <tr style=\"text-align: right;\">\n",
       "      <th></th>\n",
       "      <th>tube_assembly_id</th>\n",
       "      <th>supplier</th>\n",
       "      <th>quote_date</th>\n",
       "      <th>annual_usage</th>\n",
       "      <th>min_order_quantity</th>\n",
       "      <th>bracket_pricing</th>\n",
       "      <th>quantity</th>\n",
       "      <th>cost</th>\n",
       "      <th>material_id</th>\n",
       "      <th>diameter</th>\n",
       "      <th>wall</th>\n",
       "      <th>length</th>\n",
       "      <th>num_bends</th>\n",
       "      <th>bend_radius</th>\n",
       "      <th>end_a_1x</th>\n",
       "      <th>end_a_2x</th>\n",
       "      <th>end_x_1x</th>\n",
       "      <th>end_x_2x</th>\n",
       "      <th>end_a</th>\n",
       "      <th>end_x</th>\n",
       "      <th>num_boss</th>\n",
       "      <th>num_bracket</th>\n",
       "      <th>other</th>\n",
       "      <th>type_totals</th>\n",
       "      <th>component_totals</th>\n",
       "      <th>spec_totals</th>\n",
       "      <th>year</th>\n",
       "      <th>month</th>\n",
       "      <th>day</th>\n",
       "      <th>day_of_week</th>\n",
       "    </tr>\n",
       "  </thead>\n",
       "  <tbody>\n",
       "    <tr>\n",
       "      <th>0</th>\n",
       "      <td>TA-00002</td>\n",
       "      <td>S-0066</td>\n",
       "      <td>2013-07-07</td>\n",
       "      <td>0</td>\n",
       "      <td>0</td>\n",
       "      <td>Yes</td>\n",
       "      <td>1</td>\n",
       "      <td>21.905933</td>\n",
       "      <td>SP-0019</td>\n",
       "      <td>6.35</td>\n",
       "      <td>0.71</td>\n",
       "      <td>137.0</td>\n",
       "      <td>8</td>\n",
       "      <td>19.05</td>\n",
       "      <td>N</td>\n",
       "      <td>N</td>\n",
       "      <td>N</td>\n",
       "      <td>N</td>\n",
       "      <td>EF-008</td>\n",
       "      <td>EF-008</td>\n",
       "      <td>0</td>\n",
       "      <td>0</td>\n",
       "      <td>0</td>\n",
       "      <td>1</td>\n",
       "      <td>2.0</td>\n",
       "      <td>0</td>\n",
       "      <td>2013</td>\n",
       "      <td>7</td>\n",
       "      <td>7</td>\n",
       "      <td>6</td>\n",
       "    </tr>\n",
       "    <tr>\n",
       "      <th>1</th>\n",
       "      <td>TA-00002</td>\n",
       "      <td>S-0066</td>\n",
       "      <td>2013-07-07</td>\n",
       "      <td>0</td>\n",
       "      <td>0</td>\n",
       "      <td>Yes</td>\n",
       "      <td>2</td>\n",
       "      <td>12.341214</td>\n",
       "      <td>SP-0019</td>\n",
       "      <td>6.35</td>\n",
       "      <td>0.71</td>\n",
       "      <td>137.0</td>\n",
       "      <td>8</td>\n",
       "      <td>19.05</td>\n",
       "      <td>N</td>\n",
       "      <td>N</td>\n",
       "      <td>N</td>\n",
       "      <td>N</td>\n",
       "      <td>EF-008</td>\n",
       "      <td>EF-008</td>\n",
       "      <td>0</td>\n",
       "      <td>0</td>\n",
       "      <td>0</td>\n",
       "      <td>1</td>\n",
       "      <td>2.0</td>\n",
       "      <td>0</td>\n",
       "      <td>2013</td>\n",
       "      <td>7</td>\n",
       "      <td>7</td>\n",
       "      <td>6</td>\n",
       "    </tr>\n",
       "    <tr>\n",
       "      <th>2</th>\n",
       "      <td>TA-00002</td>\n",
       "      <td>S-0066</td>\n",
       "      <td>2013-07-07</td>\n",
       "      <td>0</td>\n",
       "      <td>0</td>\n",
       "      <td>Yes</td>\n",
       "      <td>5</td>\n",
       "      <td>6.601826</td>\n",
       "      <td>SP-0019</td>\n",
       "      <td>6.35</td>\n",
       "      <td>0.71</td>\n",
       "      <td>137.0</td>\n",
       "      <td>8</td>\n",
       "      <td>19.05</td>\n",
       "      <td>N</td>\n",
       "      <td>N</td>\n",
       "      <td>N</td>\n",
       "      <td>N</td>\n",
       "      <td>EF-008</td>\n",
       "      <td>EF-008</td>\n",
       "      <td>0</td>\n",
       "      <td>0</td>\n",
       "      <td>0</td>\n",
       "      <td>1</td>\n",
       "      <td>2.0</td>\n",
       "      <td>0</td>\n",
       "      <td>2013</td>\n",
       "      <td>7</td>\n",
       "      <td>7</td>\n",
       "      <td>6</td>\n",
       "    </tr>\n",
       "    <tr>\n",
       "      <th>3</th>\n",
       "      <td>TA-00002</td>\n",
       "      <td>S-0066</td>\n",
       "      <td>2013-07-07</td>\n",
       "      <td>0</td>\n",
       "      <td>0</td>\n",
       "      <td>Yes</td>\n",
       "      <td>10</td>\n",
       "      <td>4.687770</td>\n",
       "      <td>SP-0019</td>\n",
       "      <td>6.35</td>\n",
       "      <td>0.71</td>\n",
       "      <td>137.0</td>\n",
       "      <td>8</td>\n",
       "      <td>19.05</td>\n",
       "      <td>N</td>\n",
       "      <td>N</td>\n",
       "      <td>N</td>\n",
       "      <td>N</td>\n",
       "      <td>EF-008</td>\n",
       "      <td>EF-008</td>\n",
       "      <td>0</td>\n",
       "      <td>0</td>\n",
       "      <td>0</td>\n",
       "      <td>1</td>\n",
       "      <td>2.0</td>\n",
       "      <td>0</td>\n",
       "      <td>2013</td>\n",
       "      <td>7</td>\n",
       "      <td>7</td>\n",
       "      <td>6</td>\n",
       "    </tr>\n",
       "    <tr>\n",
       "      <th>4</th>\n",
       "      <td>TA-00002</td>\n",
       "      <td>S-0066</td>\n",
       "      <td>2013-07-07</td>\n",
       "      <td>0</td>\n",
       "      <td>0</td>\n",
       "      <td>Yes</td>\n",
       "      <td>25</td>\n",
       "      <td>3.541561</td>\n",
       "      <td>SP-0019</td>\n",
       "      <td>6.35</td>\n",
       "      <td>0.71</td>\n",
       "      <td>137.0</td>\n",
       "      <td>8</td>\n",
       "      <td>19.05</td>\n",
       "      <td>N</td>\n",
       "      <td>N</td>\n",
       "      <td>N</td>\n",
       "      <td>N</td>\n",
       "      <td>EF-008</td>\n",
       "      <td>EF-008</td>\n",
       "      <td>0</td>\n",
       "      <td>0</td>\n",
       "      <td>0</td>\n",
       "      <td>1</td>\n",
       "      <td>2.0</td>\n",
       "      <td>0</td>\n",
       "      <td>2013</td>\n",
       "      <td>7</td>\n",
       "      <td>7</td>\n",
       "      <td>6</td>\n",
       "    </tr>\n",
       "  </tbody>\n",
       "</table>\n",
       "</div>"
      ],
      "text/plain": [
       "  tube_assembly_id supplier quote_date  annual_usage  min_order_quantity  \\\n",
       "0         TA-00002   S-0066 2013-07-07             0                   0   \n",
       "1         TA-00002   S-0066 2013-07-07             0                   0   \n",
       "2         TA-00002   S-0066 2013-07-07             0                   0   \n",
       "3         TA-00002   S-0066 2013-07-07             0                   0   \n",
       "4         TA-00002   S-0066 2013-07-07             0                   0   \n",
       "\n",
       "  bracket_pricing  quantity       cost material_id  diameter  wall  length  \\\n",
       "0             Yes         1  21.905933     SP-0019      6.35  0.71   137.0   \n",
       "1             Yes         2  12.341214     SP-0019      6.35  0.71   137.0   \n",
       "2             Yes         5   6.601826     SP-0019      6.35  0.71   137.0   \n",
       "3             Yes        10   4.687770     SP-0019      6.35  0.71   137.0   \n",
       "4             Yes        25   3.541561     SP-0019      6.35  0.71   137.0   \n",
       "\n",
       "   num_bends  bend_radius end_a_1x end_a_2x end_x_1x end_x_2x   end_a   end_x  \\\n",
       "0          8        19.05        N        N        N        N  EF-008  EF-008   \n",
       "1          8        19.05        N        N        N        N  EF-008  EF-008   \n",
       "2          8        19.05        N        N        N        N  EF-008  EF-008   \n",
       "3          8        19.05        N        N        N        N  EF-008  EF-008   \n",
       "4          8        19.05        N        N        N        N  EF-008  EF-008   \n",
       "\n",
       "   num_boss  num_bracket  other  type_totals  component_totals  spec_totals  \\\n",
       "0         0            0      0            1               2.0            0   \n",
       "1         0            0      0            1               2.0            0   \n",
       "2         0            0      0            1               2.0            0   \n",
       "3         0            0      0            1               2.0            0   \n",
       "4         0            0      0            1               2.0            0   \n",
       "\n",
       "   year  month  day  day_of_week  \n",
       "0  2013      7    7            6  \n",
       "1  2013      7    7            6  \n",
       "2  2013      7    7            6  \n",
       "3  2013      7    7            6  \n",
       "4  2013      7    7            6  "
      ]
     },
     "execution_count": 16,
     "metadata": {},
     "output_type": "execute_result"
    }
   ],
   "source": [
    "data.head()"
   ]
  },
  {
   "cell_type": "code",
   "execution_count": 17,
   "metadata": {
    "collapsed": true
   },
   "outputs": [],
   "source": [
    "#only use numeric data\n",
    "orig_data = data.select_dtypes(include=['int', 'float']).copy()"
   ]
  },
  {
   "cell_type": "code",
   "execution_count": 18,
   "metadata": {
    "collapsed": true
   },
   "outputs": [],
   "source": [
    "orig_data.replace(np.nan, 0, inplace=True)\n",
    "orig_data.drop(['cost'], axis=1, inplace=True)\n",
    "data_columns=orig_data.columns.tolist()"
   ]
  },
  {
   "cell_type": "code",
   "execution_count": 19,
   "metadata": {},
   "outputs": [
    {
     "data": {
      "text/plain": [
       "PCA(copy=True, iterated_power='auto', n_components=13, random_state=None,\n",
       "  svd_solver='auto', tol=0.0, whiten=False)"
      ]
     },
     "execution_count": 19,
     "metadata": {},
     "output_type": "execute_result"
    }
   ],
   "source": [
    "# it is important to perform feature scaling before PCA\n",
    "scaler=StandardScaler().fit(orig_data.values)\n",
    "scale_data=scaler.transform(orig_data)\n",
    "\n",
    "pca=PCA(n_components=13)\n",
    "pca.fit(scale_data)"
   ]
  },
  {
   "cell_type": "code",
   "execution_count": 20,
   "metadata": {},
   "outputs": [
    {
     "name": "stdout",
     "output_type": "stream",
     "text": [
      "data shape before pca transform is (30213, 18)\n",
      "data shape after pca transform is(30213, 13)\n"
     ]
    }
   ],
   "source": [
    "print(\"data shape before pca transform is {}\".format(orig_data.shape))\n",
    "pca_data=pca.transform(scale_data)\n",
    "print(\"data shape after pca transform is{}\".format(data_pca.shape))"
   ]
  },
  {
   "cell_type": "markdown",
   "metadata": {},
   "source": [
    "# Utility Functions"
   ]
  },
  {
   "cell_type": "code",
   "execution_count": 21,
   "metadata": {
    "collapsed": true
   },
   "outputs": [],
   "source": [
    "from xgboost import XGBRegressor"
   ]
  },
  {
   "cell_type": "code",
   "execution_count": 22,
   "metadata": {
    "collapsed": true
   },
   "outputs": [],
   "source": [
    "#define a evaluation function\n",
    "\n",
    "def rmsle_score(preds, true):\n",
    "    rmsle_score = (np.sum((np.log1p(preds)-np.log1p(true))**2)/len(true))**0.5\n",
    "    return rmsle_score"
   ]
  },
  {
   "cell_type": "code",
   "execution_count": 23,
   "metadata": {
    "collapsed": true
   },
   "outputs": [],
   "source": [
    "#Define a evaluation matrix \n",
    "from sklearn.metrics.scorer import make_scorer\n",
    "\n",
    "RMSLE = make_scorer(rmsle_score)"
   ]
  },
  {
   "cell_type": "markdown",
   "metadata": {},
   "source": [
    "### XGB part"
   ]
  },
  {
   "cell_type": "markdown",
   "metadata": {},
   "source": [
    "with original data"
   ]
  },
  {
   "cell_type": "code",
   "execution_count": 24,
   "metadata": {},
   "outputs": [
    {
     "name": "stdout",
     "output_type": "stream",
     "text": [
      "Original data: RMSLE are:[ 0.43619665  0.43254684  0.56264036  0.65273743  0.44257912]\n",
      "original data: Mean RMSLE is : 0.5053400781565578\n",
      "It takes 7.662615060806274 seconds\n"
     ]
    }
   ],
   "source": [
    "# split for cross_val_score machine learning model\n",
    "\n",
    "X = orig_data\n",
    "y = data[\"cost\"]\n",
    "\n",
    "\n",
    "#XGB Regression and cross_val_score\n",
    "from sklearn.cross_validation import cross_val_score\n",
    "\n",
    "start = time.time()\n",
    "xgb_regressor=XGBRegressor(max_depth=3, \n",
    "                           n_estimators=300,                        \n",
    "                           learning_rate=0.1)\n",
    "\n",
    "#y_log=np.log1p(y)\n",
    "\n",
    "rmsle_scores = cross_val_score(xgb_regressor, X, y, scoring=RMSLE, cv=5)\n",
    "print(\"Original data: RMSLE are:{}\".format(rmsle_scores))\n",
    "print(\"original data: Mean RMSLE is : {}\".format(np.mean(rmsle_scores)))\n",
    "\n",
    "end = time.time()\n",
    "duration = end-start\n",
    "print (\"It takes {} seconds\".format(duration))"
   ]
  },
  {
   "cell_type": "markdown",
   "metadata": {},
   "source": [
    "with PCA data"
   ]
  },
  {
   "cell_type": "code",
   "execution_count": 25,
   "metadata": {},
   "outputs": [
    {
     "name": "stdout",
     "output_type": "stream",
     "text": [
      "PCA data: RMSLE are:[ 0.61928296  0.60830024  0.65921165  0.77984022  0.65560284]\n",
      "PCA data: Mean RMSLE is : 0.6644475821580407\n",
      "It takes 10.44720983505249 seconds\n"
     ]
    }
   ],
   "source": [
    "# split for cross_val_score machine learning model\n",
    "\n",
    "X = pd.DataFrame(pca_data)\n",
    "y = data[\"cost\"]\n",
    "\n",
    "\n",
    "#XGB Regression and cross_val_score\n",
    "from sklearn.cross_validation import cross_val_score\n",
    "\n",
    "start = time.time()\n",
    "xgb_regressor=XGBRegressor(max_depth=3, \n",
    "                           n_estimators=300,                        \n",
    "                           learning_rate=0.1)\n",
    "\n",
    "#y_log=np.log1p(y)\n",
    "\n",
    "rmsle_scores = cross_val_score(xgb_regressor, X, y, scoring=RMSLE, cv=5)\n",
    "print(\"PCA data: RMSLE are:{}\".format(rmsle_scores))\n",
    "print(\"PCA data: Mean RMSLE is : {}\".format(np.mean(rmsle_scores)))\n",
    "\n",
    "end = time.time()\n",
    "duration = end-start\n",
    "print (\"It takes {} seconds\".format(duration))"
   ]
  },
  {
   "cell_type": "markdown",
   "metadata": {},
   "source": [
    "### Linear Regression part"
   ]
  },
  {
   "cell_type": "markdown",
   "metadata": {},
   "source": [
    "with original data"
   ]
  },
  {
   "cell_type": "code",
   "execution_count": 26,
   "metadata": {},
   "outputs": [
    {
     "name": "stdout",
     "output_type": "stream",
     "text": [
      "RMSLE are:[ 0.82270528  0.82014801  0.87274333  0.85288201  0.86124792]\n",
      "Mean RMSLE score:0.8459453097833876\n",
      "It takes 0.08084225654602051 seconds\n"
     ]
    }
   ],
   "source": [
    "#Linear regression and cross_val_score\n",
    "from sklearn.cross_validation import cross_val_score\n",
    "\n",
    "from sklearn.linear_model import LinearRegression\n",
    "\n",
    "X = orig_data\n",
    "y = data[\"cost\"]\n",
    "\n",
    "start = time.time()\n",
    "linear=LinearRegression()\n",
    "\n",
    "rmsle_scores = cross_val_score(linear, X, y, scoring=RMSLE, cv=5)\n",
    "print(\"RMSLE are:{}\".format(rmsle_scores))\n",
    "print(\"Mean RMSLE score:{}\".format(np.mean(rmsle_scores)))\n",
    "\n",
    "end = time.time()\n",
    "duration = end - start\n",
    "print (\"It takes {} seconds\".format(duration))"
   ]
  },
  {
   "cell_type": "markdown",
   "metadata": {},
   "source": [
    "with PCA data"
   ]
  },
  {
   "cell_type": "code",
   "execution_count": 27,
   "metadata": {},
   "outputs": [
    {
     "name": "stdout",
     "output_type": "stream",
     "text": [
      "RMSLE are:[ 0.82020573  0.79373051  0.86568293  0.85401761  0.82988693]\n",
      "Mean RMSLE score:0.8327047426345645\n",
      "It takes 0.04334115982055664 seconds\n"
     ]
    }
   ],
   "source": [
    "from sklearn.cross_validation import cross_val_score\n",
    "\n",
    "from sklearn.linear_model import LinearRegression\n",
    "\n",
    "X = pca_data\n",
    "y = data[\"cost\"]\n",
    "\n",
    "start = time.time()\n",
    "linear=LinearRegression()\n",
    "\n",
    "rmsle_scores = cross_val_score(linear, X, y, scoring=RMSLE, cv=5)\n",
    "print(\"RMSLE are:{}\".format(rmsle_scores))\n",
    "print(\"Mean RMSLE score:{}\".format(np.mean(rmsle_scores)))\n",
    "\n",
    "end = time.time()\n",
    "duration = end - start\n",
    "print (\"It takes {} seconds\".format(duration))"
   ]
  },
  {
   "cell_type": "code",
   "execution_count": null,
   "metadata": {
    "collapsed": true
   },
   "outputs": [],
   "source": []
  },
  {
   "cell_type": "markdown",
   "metadata": {},
   "source": [
    "### Kmeans features combined with master data "
   ]
  },
  {
   "cell_type": "code",
   "execution_count": 28,
   "metadata": {
    "collapsed": true
   },
   "outputs": [],
   "source": [
    "km_data = orig_data.copy()"
   ]
  },
  {
   "cell_type": "code",
   "execution_count": 29,
   "metadata": {
    "collapsed": true
   },
   "outputs": [],
   "source": [
    "clusterer=KMeans(n_clusters=4, random_state=0)\n",
    "kmean_preds=clusterer.fit_predict(orig_data) \n",
    "\n",
    "# find the cluster centers \n",
    "centers=clusterer.cluster_centers_\n",
    "km_data['cluster']=kmean_preds\n",
    "\n",
    "\n",
    "kmean_preds2 = clusterer.fit_predict(scale_data)\n",
    "centers2=clusterer.cluster_centers_\n",
    "km_data['cluster2']=kmean_preds2"
   ]
  },
  {
   "cell_type": "code",
   "execution_count": 30,
   "metadata": {},
   "outputs": [
    {
     "data": {
      "text/plain": [
       "0    30079\n",
       "3      108\n",
       "2       24\n",
       "1        2\n",
       "Name: cluster, dtype: int64"
      ]
     },
     "execution_count": 30,
     "metadata": {},
     "output_type": "execute_result"
    }
   ],
   "source": [
    "km_data.cluster.value_counts()"
   ]
  },
  {
   "cell_type": "code",
   "execution_count": 31,
   "metadata": {},
   "outputs": [
    {
     "data": {
      "text/plain": [
       "2    13661\n",
       "1     7893\n",
       "0     6646\n",
       "3     2013\n",
       "Name: cluster2, dtype: int64"
      ]
     },
     "execution_count": 31,
     "metadata": {},
     "output_type": "execute_result"
    }
   ],
   "source": [
    "km_data.cluster2.value_counts()"
   ]
  },
  {
   "cell_type": "markdown",
   "metadata": {},
   "source": [
    "from above 2 results, we know that it is important to perform feature scaling before Kmeans"
   ]
  },
  {
   "cell_type": "code",
   "execution_count": 32,
   "metadata": {
    "collapsed": true
   },
   "outputs": [],
   "source": [
    "km_data.drop(\"cluster\", axis=1, inplace=True)"
   ]
  },
  {
   "cell_type": "code",
   "execution_count": 33,
   "metadata": {},
   "outputs": [
    {
     "data": {
      "text/html": [
       "<div>\n",
       "<style>\n",
       "    .dataframe thead tr:only-child th {\n",
       "        text-align: right;\n",
       "    }\n",
       "\n",
       "    .dataframe thead th {\n",
       "        text-align: left;\n",
       "    }\n",
       "\n",
       "    .dataframe tbody tr th {\n",
       "        vertical-align: top;\n",
       "    }\n",
       "</style>\n",
       "<table border=\"1\" class=\"dataframe\">\n",
       "  <thead>\n",
       "    <tr style=\"text-align: right;\">\n",
       "      <th></th>\n",
       "      <th>annual_usage</th>\n",
       "      <th>min_order_quantity</th>\n",
       "      <th>quantity</th>\n",
       "      <th>diameter</th>\n",
       "      <th>wall</th>\n",
       "      <th>length</th>\n",
       "      <th>num_bends</th>\n",
       "      <th>bend_radius</th>\n",
       "      <th>num_boss</th>\n",
       "      <th>num_bracket</th>\n",
       "      <th>other</th>\n",
       "      <th>type_totals</th>\n",
       "      <th>component_totals</th>\n",
       "      <th>spec_totals</th>\n",
       "      <th>year</th>\n",
       "      <th>month</th>\n",
       "      <th>day</th>\n",
       "      <th>day_of_week</th>\n",
       "      <th>cluster2</th>\n",
       "    </tr>\n",
       "  </thead>\n",
       "  <tbody>\n",
       "    <tr>\n",
       "      <th>0</th>\n",
       "      <td>0</td>\n",
       "      <td>0</td>\n",
       "      <td>1</td>\n",
       "      <td>6.35</td>\n",
       "      <td>0.71</td>\n",
       "      <td>137.0</td>\n",
       "      <td>8</td>\n",
       "      <td>19.05</td>\n",
       "      <td>0</td>\n",
       "      <td>0</td>\n",
       "      <td>0</td>\n",
       "      <td>1</td>\n",
       "      <td>2.0</td>\n",
       "      <td>0</td>\n",
       "      <td>2013</td>\n",
       "      <td>7</td>\n",
       "      <td>7</td>\n",
       "      <td>6</td>\n",
       "      <td>1</td>\n",
       "    </tr>\n",
       "    <tr>\n",
       "      <th>1</th>\n",
       "      <td>0</td>\n",
       "      <td>0</td>\n",
       "      <td>2</td>\n",
       "      <td>6.35</td>\n",
       "      <td>0.71</td>\n",
       "      <td>137.0</td>\n",
       "      <td>8</td>\n",
       "      <td>19.05</td>\n",
       "      <td>0</td>\n",
       "      <td>0</td>\n",
       "      <td>0</td>\n",
       "      <td>1</td>\n",
       "      <td>2.0</td>\n",
       "      <td>0</td>\n",
       "      <td>2013</td>\n",
       "      <td>7</td>\n",
       "      <td>7</td>\n",
       "      <td>6</td>\n",
       "      <td>1</td>\n",
       "    </tr>\n",
       "    <tr>\n",
       "      <th>2</th>\n",
       "      <td>0</td>\n",
       "      <td>0</td>\n",
       "      <td>5</td>\n",
       "      <td>6.35</td>\n",
       "      <td>0.71</td>\n",
       "      <td>137.0</td>\n",
       "      <td>8</td>\n",
       "      <td>19.05</td>\n",
       "      <td>0</td>\n",
       "      <td>0</td>\n",
       "      <td>0</td>\n",
       "      <td>1</td>\n",
       "      <td>2.0</td>\n",
       "      <td>0</td>\n",
       "      <td>2013</td>\n",
       "      <td>7</td>\n",
       "      <td>7</td>\n",
       "      <td>6</td>\n",
       "      <td>1</td>\n",
       "    </tr>\n",
       "    <tr>\n",
       "      <th>3</th>\n",
       "      <td>0</td>\n",
       "      <td>0</td>\n",
       "      <td>10</td>\n",
       "      <td>6.35</td>\n",
       "      <td>0.71</td>\n",
       "      <td>137.0</td>\n",
       "      <td>8</td>\n",
       "      <td>19.05</td>\n",
       "      <td>0</td>\n",
       "      <td>0</td>\n",
       "      <td>0</td>\n",
       "      <td>1</td>\n",
       "      <td>2.0</td>\n",
       "      <td>0</td>\n",
       "      <td>2013</td>\n",
       "      <td>7</td>\n",
       "      <td>7</td>\n",
       "      <td>6</td>\n",
       "      <td>1</td>\n",
       "    </tr>\n",
       "    <tr>\n",
       "      <th>4</th>\n",
       "      <td>0</td>\n",
       "      <td>0</td>\n",
       "      <td>25</td>\n",
       "      <td>6.35</td>\n",
       "      <td>0.71</td>\n",
       "      <td>137.0</td>\n",
       "      <td>8</td>\n",
       "      <td>19.05</td>\n",
       "      <td>0</td>\n",
       "      <td>0</td>\n",
       "      <td>0</td>\n",
       "      <td>1</td>\n",
       "      <td>2.0</td>\n",
       "      <td>0</td>\n",
       "      <td>2013</td>\n",
       "      <td>7</td>\n",
       "      <td>7</td>\n",
       "      <td>6</td>\n",
       "      <td>1</td>\n",
       "    </tr>\n",
       "  </tbody>\n",
       "</table>\n",
       "</div>"
      ],
      "text/plain": [
       "   annual_usage  min_order_quantity  quantity  diameter  wall  length  \\\n",
       "0             0                   0         1      6.35  0.71   137.0   \n",
       "1             0                   0         2      6.35  0.71   137.0   \n",
       "2             0                   0         5      6.35  0.71   137.0   \n",
       "3             0                   0        10      6.35  0.71   137.0   \n",
       "4             0                   0        25      6.35  0.71   137.0   \n",
       "\n",
       "   num_bends  bend_radius  num_boss  num_bracket  other  type_totals  \\\n",
       "0          8        19.05         0            0      0            1   \n",
       "1          8        19.05         0            0      0            1   \n",
       "2          8        19.05         0            0      0            1   \n",
       "3          8        19.05         0            0      0            1   \n",
       "4          8        19.05         0            0      0            1   \n",
       "\n",
       "   component_totals  spec_totals  year  month  day  day_of_week  cluster2  \n",
       "0               2.0            0  2013      7    7            6         1  \n",
       "1               2.0            0  2013      7    7            6         1  \n",
       "2               2.0            0  2013      7    7            6         1  \n",
       "3               2.0            0  2013      7    7            6         1  \n",
       "4               2.0            0  2013      7    7            6         1  "
      ]
     },
     "execution_count": 33,
     "metadata": {},
     "output_type": "execute_result"
    }
   ],
   "source": [
    "km_data.head()"
   ]
  },
  {
   "cell_type": "markdown",
   "metadata": {},
   "source": [
    "look back to the dataframe, we have a new featre \"cluster\" to present the group relationship "
   ]
  },
  {
   "cell_type": "code",
   "execution_count": null,
   "metadata": {
    "collapsed": true
   },
   "outputs": [],
   "source": []
  }
 ],
 "metadata": {
  "kernelspec": {
   "display_name": "Python 3",
   "language": "python",
   "name": "python3"
  },
  "language_info": {
   "codemirror_mode": {
    "name": "ipython",
    "version": 3
   },
   "file_extension": ".py",
   "mimetype": "text/x-python",
   "name": "python",
   "nbconvert_exporter": "python",
   "pygments_lexer": "ipython3",
   "version": "3.6.3"
  }
 },
 "nbformat": 4,
 "nbformat_minor": 2
}
